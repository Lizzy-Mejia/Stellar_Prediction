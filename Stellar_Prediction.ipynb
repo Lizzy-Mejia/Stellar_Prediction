{
 "cells": [
  {
   "cell_type": "code",
   "execution_count": 1,
   "id": "9800fedf",
   "metadata": {},
   "outputs": [],
   "source": [
    "# importación de las librerias y bibliotecas que serán utilizadas para el análisis y preparación de los datos\n",
    "import pandas as pd\n",
    "import numpy as np\n",
    "import matplotlib.pyplot as plt\n",
    "import seaborn as sns\n",
    "from sklearn.preprocessing import RobustScaler\n",
    "from sklearn.pipeline import Pipeline"
   ]
  },
  {
   "cell_type": "code",
   "execution_count": 2,
   "id": "3fffcc9c",
   "metadata": {},
   "outputs": [],
   "source": [
    "#Lectura del dataset \n",
    "df = pd.read_csv('star_classification.csv')"
   ]
  },
  {
   "cell_type": "code",
   "execution_count": 3,
   "id": "a6307a1d",
   "metadata": {},
   "outputs": [
    {
     "data": {
      "text/html": [
       "<div>\n",
       "<style scoped>\n",
       "    .dataframe tbody tr th:only-of-type {\n",
       "        vertical-align: middle;\n",
       "    }\n",
       "\n",
       "    .dataframe tbody tr th {\n",
       "        vertical-align: top;\n",
       "    }\n",
       "\n",
       "    .dataframe thead th {\n",
       "        text-align: right;\n",
       "    }\n",
       "</style>\n",
       "<table border=\"1\" class=\"dataframe\">\n",
       "  <thead>\n",
       "    <tr style=\"text-align: right;\">\n",
       "      <th></th>\n",
       "      <th>obj_ID</th>\n",
       "      <th>alpha</th>\n",
       "      <th>delta</th>\n",
       "      <th>u</th>\n",
       "      <th>g</th>\n",
       "      <th>r</th>\n",
       "      <th>i</th>\n",
       "      <th>z</th>\n",
       "      <th>run_ID</th>\n",
       "      <th>rerun_ID</th>\n",
       "      <th>cam_col</th>\n",
       "      <th>field_ID</th>\n",
       "      <th>spec_obj_ID</th>\n",
       "      <th>class</th>\n",
       "      <th>redshift</th>\n",
       "      <th>plate</th>\n",
       "      <th>MJD</th>\n",
       "      <th>fiber_ID</th>\n",
       "    </tr>\n",
       "  </thead>\n",
       "  <tbody>\n",
       "    <tr>\n",
       "      <th>0</th>\n",
       "      <td>1.237661e+18</td>\n",
       "      <td>135.689107</td>\n",
       "      <td>32.494632</td>\n",
       "      <td>23.87882</td>\n",
       "      <td>22.27530</td>\n",
       "      <td>20.39501</td>\n",
       "      <td>19.16573</td>\n",
       "      <td>18.79371</td>\n",
       "      <td>3606</td>\n",
       "      <td>301</td>\n",
       "      <td>2</td>\n",
       "      <td>79</td>\n",
       "      <td>6.543777e+18</td>\n",
       "      <td>GALAXY</td>\n",
       "      <td>0.634794</td>\n",
       "      <td>5812</td>\n",
       "      <td>56354</td>\n",
       "      <td>171</td>\n",
       "    </tr>\n",
       "    <tr>\n",
       "      <th>1</th>\n",
       "      <td>1.237665e+18</td>\n",
       "      <td>144.826101</td>\n",
       "      <td>31.274185</td>\n",
       "      <td>24.77759</td>\n",
       "      <td>22.83188</td>\n",
       "      <td>22.58444</td>\n",
       "      <td>21.16812</td>\n",
       "      <td>21.61427</td>\n",
       "      <td>4518</td>\n",
       "      <td>301</td>\n",
       "      <td>5</td>\n",
       "      <td>119</td>\n",
       "      <td>1.176014e+19</td>\n",
       "      <td>GALAXY</td>\n",
       "      <td>0.779136</td>\n",
       "      <td>10445</td>\n",
       "      <td>58158</td>\n",
       "      <td>427</td>\n",
       "    </tr>\n",
       "    <tr>\n",
       "      <th>2</th>\n",
       "      <td>1.237661e+18</td>\n",
       "      <td>142.188790</td>\n",
       "      <td>35.582444</td>\n",
       "      <td>25.26307</td>\n",
       "      <td>22.66389</td>\n",
       "      <td>20.60976</td>\n",
       "      <td>19.34857</td>\n",
       "      <td>18.94827</td>\n",
       "      <td>3606</td>\n",
       "      <td>301</td>\n",
       "      <td>2</td>\n",
       "      <td>120</td>\n",
       "      <td>5.152200e+18</td>\n",
       "      <td>GALAXY</td>\n",
       "      <td>0.644195</td>\n",
       "      <td>4576</td>\n",
       "      <td>55592</td>\n",
       "      <td>299</td>\n",
       "    </tr>\n",
       "    <tr>\n",
       "      <th>3</th>\n",
       "      <td>1.237663e+18</td>\n",
       "      <td>338.741038</td>\n",
       "      <td>-0.402828</td>\n",
       "      <td>22.13682</td>\n",
       "      <td>23.77656</td>\n",
       "      <td>21.61162</td>\n",
       "      <td>20.50454</td>\n",
       "      <td>19.25010</td>\n",
       "      <td>4192</td>\n",
       "      <td>301</td>\n",
       "      <td>3</td>\n",
       "      <td>214</td>\n",
       "      <td>1.030107e+19</td>\n",
       "      <td>GALAXY</td>\n",
       "      <td>0.932346</td>\n",
       "      <td>9149</td>\n",
       "      <td>58039</td>\n",
       "      <td>775</td>\n",
       "    </tr>\n",
       "    <tr>\n",
       "      <th>4</th>\n",
       "      <td>1.237680e+18</td>\n",
       "      <td>345.282593</td>\n",
       "      <td>21.183866</td>\n",
       "      <td>19.43718</td>\n",
       "      <td>17.58028</td>\n",
       "      <td>16.49747</td>\n",
       "      <td>15.97711</td>\n",
       "      <td>15.54461</td>\n",
       "      <td>8102</td>\n",
       "      <td>301</td>\n",
       "      <td>3</td>\n",
       "      <td>137</td>\n",
       "      <td>6.891865e+18</td>\n",
       "      <td>GALAXY</td>\n",
       "      <td>0.116123</td>\n",
       "      <td>6121</td>\n",
       "      <td>56187</td>\n",
       "      <td>842</td>\n",
       "    </tr>\n",
       "    <tr>\n",
       "      <th>...</th>\n",
       "      <td>...</td>\n",
       "      <td>...</td>\n",
       "      <td>...</td>\n",
       "      <td>...</td>\n",
       "      <td>...</td>\n",
       "      <td>...</td>\n",
       "      <td>...</td>\n",
       "      <td>...</td>\n",
       "      <td>...</td>\n",
       "      <td>...</td>\n",
       "      <td>...</td>\n",
       "      <td>...</td>\n",
       "      <td>...</td>\n",
       "      <td>...</td>\n",
       "      <td>...</td>\n",
       "      <td>...</td>\n",
       "      <td>...</td>\n",
       "      <td>...</td>\n",
       "    </tr>\n",
       "    <tr>\n",
       "      <th>99995</th>\n",
       "      <td>1.237679e+18</td>\n",
       "      <td>39.620709</td>\n",
       "      <td>-2.594074</td>\n",
       "      <td>22.16759</td>\n",
       "      <td>22.97586</td>\n",
       "      <td>21.90404</td>\n",
       "      <td>21.30548</td>\n",
       "      <td>20.73569</td>\n",
       "      <td>7778</td>\n",
       "      <td>301</td>\n",
       "      <td>2</td>\n",
       "      <td>581</td>\n",
       "      <td>1.055431e+19</td>\n",
       "      <td>GALAXY</td>\n",
       "      <td>0.000000</td>\n",
       "      <td>9374</td>\n",
       "      <td>57749</td>\n",
       "      <td>438</td>\n",
       "    </tr>\n",
       "    <tr>\n",
       "      <th>99996</th>\n",
       "      <td>1.237679e+18</td>\n",
       "      <td>29.493819</td>\n",
       "      <td>19.798874</td>\n",
       "      <td>22.69118</td>\n",
       "      <td>22.38628</td>\n",
       "      <td>20.45003</td>\n",
       "      <td>19.75759</td>\n",
       "      <td>19.41526</td>\n",
       "      <td>7917</td>\n",
       "      <td>301</td>\n",
       "      <td>1</td>\n",
       "      <td>289</td>\n",
       "      <td>8.586351e+18</td>\n",
       "      <td>GALAXY</td>\n",
       "      <td>0.404895</td>\n",
       "      <td>7626</td>\n",
       "      <td>56934</td>\n",
       "      <td>866</td>\n",
       "    </tr>\n",
       "    <tr>\n",
       "      <th>99997</th>\n",
       "      <td>1.237668e+18</td>\n",
       "      <td>224.587407</td>\n",
       "      <td>15.700707</td>\n",
       "      <td>21.16916</td>\n",
       "      <td>19.26997</td>\n",
       "      <td>18.20428</td>\n",
       "      <td>17.69034</td>\n",
       "      <td>17.35221</td>\n",
       "      <td>5314</td>\n",
       "      <td>301</td>\n",
       "      <td>4</td>\n",
       "      <td>308</td>\n",
       "      <td>3.112008e+18</td>\n",
       "      <td>GALAXY</td>\n",
       "      <td>0.143366</td>\n",
       "      <td>2764</td>\n",
       "      <td>54535</td>\n",
       "      <td>74</td>\n",
       "    </tr>\n",
       "    <tr>\n",
       "      <th>99998</th>\n",
       "      <td>1.237661e+18</td>\n",
       "      <td>212.268621</td>\n",
       "      <td>46.660365</td>\n",
       "      <td>25.35039</td>\n",
       "      <td>21.63757</td>\n",
       "      <td>19.91386</td>\n",
       "      <td>19.07254</td>\n",
       "      <td>18.62482</td>\n",
       "      <td>3650</td>\n",
       "      <td>301</td>\n",
       "      <td>4</td>\n",
       "      <td>131</td>\n",
       "      <td>7.601080e+18</td>\n",
       "      <td>GALAXY</td>\n",
       "      <td>0.455040</td>\n",
       "      <td>6751</td>\n",
       "      <td>56368</td>\n",
       "      <td>470</td>\n",
       "    </tr>\n",
       "    <tr>\n",
       "      <th>99999</th>\n",
       "      <td>1.237661e+18</td>\n",
       "      <td>196.896053</td>\n",
       "      <td>49.464643</td>\n",
       "      <td>22.62171</td>\n",
       "      <td>21.79745</td>\n",
       "      <td>20.60115</td>\n",
       "      <td>20.00959</td>\n",
       "      <td>19.28075</td>\n",
       "      <td>3650</td>\n",
       "      <td>301</td>\n",
       "      <td>4</td>\n",
       "      <td>60</td>\n",
       "      <td>8.343152e+18</td>\n",
       "      <td>GALAXY</td>\n",
       "      <td>0.542944</td>\n",
       "      <td>7410</td>\n",
       "      <td>57104</td>\n",
       "      <td>851</td>\n",
       "    </tr>\n",
       "  </tbody>\n",
       "</table>\n",
       "<p>100000 rows × 18 columns</p>\n",
       "</div>"
      ],
      "text/plain": [
       "             obj_ID       alpha      delta         u         g         r  \\\n",
       "0      1.237661e+18  135.689107  32.494632  23.87882  22.27530  20.39501   \n",
       "1      1.237665e+18  144.826101  31.274185  24.77759  22.83188  22.58444   \n",
       "2      1.237661e+18  142.188790  35.582444  25.26307  22.66389  20.60976   \n",
       "3      1.237663e+18  338.741038  -0.402828  22.13682  23.77656  21.61162   \n",
       "4      1.237680e+18  345.282593  21.183866  19.43718  17.58028  16.49747   \n",
       "...             ...         ...        ...       ...       ...       ...   \n",
       "99995  1.237679e+18   39.620709  -2.594074  22.16759  22.97586  21.90404   \n",
       "99996  1.237679e+18   29.493819  19.798874  22.69118  22.38628  20.45003   \n",
       "99997  1.237668e+18  224.587407  15.700707  21.16916  19.26997  18.20428   \n",
       "99998  1.237661e+18  212.268621  46.660365  25.35039  21.63757  19.91386   \n",
       "99999  1.237661e+18  196.896053  49.464643  22.62171  21.79745  20.60115   \n",
       "\n",
       "              i         z  run_ID  rerun_ID  cam_col  field_ID   spec_obj_ID  \\\n",
       "0      19.16573  18.79371    3606       301        2        79  6.543777e+18   \n",
       "1      21.16812  21.61427    4518       301        5       119  1.176014e+19   \n",
       "2      19.34857  18.94827    3606       301        2       120  5.152200e+18   \n",
       "3      20.50454  19.25010    4192       301        3       214  1.030107e+19   \n",
       "4      15.97711  15.54461    8102       301        3       137  6.891865e+18   \n",
       "...         ...       ...     ...       ...      ...       ...           ...   \n",
       "99995  21.30548  20.73569    7778       301        2       581  1.055431e+19   \n",
       "99996  19.75759  19.41526    7917       301        1       289  8.586351e+18   \n",
       "99997  17.69034  17.35221    5314       301        4       308  3.112008e+18   \n",
       "99998  19.07254  18.62482    3650       301        4       131  7.601080e+18   \n",
       "99999  20.00959  19.28075    3650       301        4        60  8.343152e+18   \n",
       "\n",
       "        class  redshift  plate    MJD  fiber_ID  \n",
       "0      GALAXY  0.634794   5812  56354       171  \n",
       "1      GALAXY  0.779136  10445  58158       427  \n",
       "2      GALAXY  0.644195   4576  55592       299  \n",
       "3      GALAXY  0.932346   9149  58039       775  \n",
       "4      GALAXY  0.116123   6121  56187       842  \n",
       "...       ...       ...    ...    ...       ...  \n",
       "99995  GALAXY  0.000000   9374  57749       438  \n",
       "99996  GALAXY  0.404895   7626  56934       866  \n",
       "99997  GALAXY  0.143366   2764  54535        74  \n",
       "99998  GALAXY  0.455040   6751  56368       470  \n",
       "99999  GALAXY  0.542944   7410  57104       851  \n",
       "\n",
       "[100000 rows x 18 columns]"
      ]
     },
     "execution_count": 3,
     "metadata": {},
     "output_type": "execute_result"
    }
   ],
   "source": [
    "#Visualización inicial del conjunto de datos\n",
    "df"
   ]
  },
  {
   "cell_type": "markdown",
   "id": "3d136c58",
   "metadata": {},
   "source": [
    "# Evaluación de los datos"
   ]
  },
  {
   "cell_type": "code",
   "execution_count": 4,
   "id": "7b8f2496",
   "metadata": {},
   "outputs": [
    {
     "name": "stdout",
     "output_type": "stream",
     "text": [
      "<class 'pandas.core.frame.DataFrame'>\n",
      "RangeIndex: 100000 entries, 0 to 99999\n",
      "Data columns (total 18 columns):\n",
      " #   Column       Non-Null Count   Dtype  \n",
      "---  ------       --------------   -----  \n",
      " 0   obj_ID       100000 non-null  float64\n",
      " 1   alpha        100000 non-null  float64\n",
      " 2   delta        100000 non-null  float64\n",
      " 3   u            100000 non-null  float64\n",
      " 4   g            100000 non-null  float64\n",
      " 5   r            100000 non-null  float64\n",
      " 6   i            100000 non-null  float64\n",
      " 7   z            100000 non-null  float64\n",
      " 8   run_ID       100000 non-null  int64  \n",
      " 9   rerun_ID     100000 non-null  int64  \n",
      " 10  cam_col      100000 non-null  int64  \n",
      " 11  field_ID     100000 non-null  int64  \n",
      " 12  spec_obj_ID  100000 non-null  float64\n",
      " 13  class        100000 non-null  object \n",
      " 14  redshift     100000 non-null  float64\n",
      " 15  plate        100000 non-null  int64  \n",
      " 16  MJD          100000 non-null  int64  \n",
      " 17  fiber_ID     100000 non-null  int64  \n",
      "dtypes: float64(10), int64(7), object(1)\n",
      "memory usage: 13.7+ MB\n"
     ]
    }
   ],
   "source": [
    "#Visualizamos la informacion básica del conjunto de datos\n",
    "df.info()"
   ]
  },
  {
   "cell_type": "code",
   "execution_count": 5,
   "id": "de80ad7c",
   "metadata": {},
   "outputs": [
    {
     "data": {
      "text/html": [
       "<div>\n",
       "<style scoped>\n",
       "    .dataframe tbody tr th:only-of-type {\n",
       "        vertical-align: middle;\n",
       "    }\n",
       "\n",
       "    .dataframe tbody tr th {\n",
       "        vertical-align: top;\n",
       "    }\n",
       "\n",
       "    .dataframe thead th {\n",
       "        text-align: right;\n",
       "    }\n",
       "</style>\n",
       "<table border=\"1\" class=\"dataframe\">\n",
       "  <thead>\n",
       "    <tr style=\"text-align: right;\">\n",
       "      <th></th>\n",
       "      <th>obj_ID</th>\n",
       "      <th>alpha</th>\n",
       "      <th>delta</th>\n",
       "      <th>u</th>\n",
       "      <th>g</th>\n",
       "      <th>r</th>\n",
       "      <th>i</th>\n",
       "      <th>z</th>\n",
       "      <th>run_ID</th>\n",
       "      <th>rerun_ID</th>\n",
       "      <th>cam_col</th>\n",
       "      <th>field_ID</th>\n",
       "      <th>spec_obj_ID</th>\n",
       "      <th>redshift</th>\n",
       "      <th>plate</th>\n",
       "      <th>MJD</th>\n",
       "      <th>fiber_ID</th>\n",
       "    </tr>\n",
       "  </thead>\n",
       "  <tbody>\n",
       "    <tr>\n",
       "      <th>count</th>\n",
       "      <td>1.000000e+05</td>\n",
       "      <td>100000.000000</td>\n",
       "      <td>100000.000000</td>\n",
       "      <td>100000.000000</td>\n",
       "      <td>100000.000000</td>\n",
       "      <td>100000.000000</td>\n",
       "      <td>100000.000000</td>\n",
       "      <td>100000.000000</td>\n",
       "      <td>100000.000000</td>\n",
       "      <td>100000.0</td>\n",
       "      <td>100000.000000</td>\n",
       "      <td>100000.000000</td>\n",
       "      <td>1.000000e+05</td>\n",
       "      <td>100000.000000</td>\n",
       "      <td>100000.000000</td>\n",
       "      <td>100000.000000</td>\n",
       "      <td>100000.000000</td>\n",
       "    </tr>\n",
       "    <tr>\n",
       "      <th>mean</th>\n",
       "      <td>1.237665e+18</td>\n",
       "      <td>177.629117</td>\n",
       "      <td>24.135305</td>\n",
       "      <td>21.980468</td>\n",
       "      <td>20.531387</td>\n",
       "      <td>19.645762</td>\n",
       "      <td>19.084854</td>\n",
       "      <td>18.668810</td>\n",
       "      <td>4481.366060</td>\n",
       "      <td>301.0</td>\n",
       "      <td>3.511610</td>\n",
       "      <td>186.130520</td>\n",
       "      <td>5.783882e+18</td>\n",
       "      <td>0.576661</td>\n",
       "      <td>5137.009660</td>\n",
       "      <td>55588.647500</td>\n",
       "      <td>449.312740</td>\n",
       "    </tr>\n",
       "    <tr>\n",
       "      <th>std</th>\n",
       "      <td>8.438560e+12</td>\n",
       "      <td>96.502241</td>\n",
       "      <td>19.644665</td>\n",
       "      <td>31.769291</td>\n",
       "      <td>31.750292</td>\n",
       "      <td>1.854760</td>\n",
       "      <td>1.757895</td>\n",
       "      <td>31.728152</td>\n",
       "      <td>1964.764593</td>\n",
       "      <td>0.0</td>\n",
       "      <td>1.586912</td>\n",
       "      <td>149.011073</td>\n",
       "      <td>3.324016e+18</td>\n",
       "      <td>0.730707</td>\n",
       "      <td>2952.303351</td>\n",
       "      <td>1808.484233</td>\n",
       "      <td>272.498404</td>\n",
       "    </tr>\n",
       "    <tr>\n",
       "      <th>min</th>\n",
       "      <td>1.237646e+18</td>\n",
       "      <td>0.005528</td>\n",
       "      <td>-18.785328</td>\n",
       "      <td>-9999.000000</td>\n",
       "      <td>-9999.000000</td>\n",
       "      <td>9.822070</td>\n",
       "      <td>9.469903</td>\n",
       "      <td>-9999.000000</td>\n",
       "      <td>109.000000</td>\n",
       "      <td>301.0</td>\n",
       "      <td>1.000000</td>\n",
       "      <td>11.000000</td>\n",
       "      <td>2.995191e+17</td>\n",
       "      <td>-0.009971</td>\n",
       "      <td>266.000000</td>\n",
       "      <td>51608.000000</td>\n",
       "      <td>1.000000</td>\n",
       "    </tr>\n",
       "    <tr>\n",
       "      <th>25%</th>\n",
       "      <td>1.237659e+18</td>\n",
       "      <td>127.518222</td>\n",
       "      <td>5.146771</td>\n",
       "      <td>20.352353</td>\n",
       "      <td>18.965230</td>\n",
       "      <td>18.135828</td>\n",
       "      <td>17.732285</td>\n",
       "      <td>17.460677</td>\n",
       "      <td>3187.000000</td>\n",
       "      <td>301.0</td>\n",
       "      <td>2.000000</td>\n",
       "      <td>82.000000</td>\n",
       "      <td>2.844138e+18</td>\n",
       "      <td>0.054517</td>\n",
       "      <td>2526.000000</td>\n",
       "      <td>54234.000000</td>\n",
       "      <td>221.000000</td>\n",
       "    </tr>\n",
       "    <tr>\n",
       "      <th>50%</th>\n",
       "      <td>1.237663e+18</td>\n",
       "      <td>180.900700</td>\n",
       "      <td>23.645922</td>\n",
       "      <td>22.179135</td>\n",
       "      <td>21.099835</td>\n",
       "      <td>20.125290</td>\n",
       "      <td>19.405145</td>\n",
       "      <td>19.004595</td>\n",
       "      <td>4188.000000</td>\n",
       "      <td>301.0</td>\n",
       "      <td>4.000000</td>\n",
       "      <td>146.000000</td>\n",
       "      <td>5.614883e+18</td>\n",
       "      <td>0.424173</td>\n",
       "      <td>4987.000000</td>\n",
       "      <td>55868.500000</td>\n",
       "      <td>433.000000</td>\n",
       "    </tr>\n",
       "    <tr>\n",
       "      <th>75%</th>\n",
       "      <td>1.237668e+18</td>\n",
       "      <td>233.895005</td>\n",
       "      <td>39.901550</td>\n",
       "      <td>23.687440</td>\n",
       "      <td>22.123767</td>\n",
       "      <td>21.044785</td>\n",
       "      <td>20.396495</td>\n",
       "      <td>19.921120</td>\n",
       "      <td>5326.000000</td>\n",
       "      <td>301.0</td>\n",
       "      <td>5.000000</td>\n",
       "      <td>241.000000</td>\n",
       "      <td>8.332144e+18</td>\n",
       "      <td>0.704154</td>\n",
       "      <td>7400.250000</td>\n",
       "      <td>56777.000000</td>\n",
       "      <td>645.000000</td>\n",
       "    </tr>\n",
       "    <tr>\n",
       "      <th>max</th>\n",
       "      <td>1.237681e+18</td>\n",
       "      <td>359.999810</td>\n",
       "      <td>83.000519</td>\n",
       "      <td>32.781390</td>\n",
       "      <td>31.602240</td>\n",
       "      <td>29.571860</td>\n",
       "      <td>32.141470</td>\n",
       "      <td>29.383740</td>\n",
       "      <td>8162.000000</td>\n",
       "      <td>301.0</td>\n",
       "      <td>6.000000</td>\n",
       "      <td>989.000000</td>\n",
       "      <td>1.412694e+19</td>\n",
       "      <td>7.011245</td>\n",
       "      <td>12547.000000</td>\n",
       "      <td>58932.000000</td>\n",
       "      <td>1000.000000</td>\n",
       "    </tr>\n",
       "  </tbody>\n",
       "</table>\n",
       "</div>"
      ],
      "text/plain": [
       "             obj_ID          alpha          delta              u  \\\n",
       "count  1.000000e+05  100000.000000  100000.000000  100000.000000   \n",
       "mean   1.237665e+18     177.629117      24.135305      21.980468   \n",
       "std    8.438560e+12      96.502241      19.644665      31.769291   \n",
       "min    1.237646e+18       0.005528     -18.785328   -9999.000000   \n",
       "25%    1.237659e+18     127.518222       5.146771      20.352353   \n",
       "50%    1.237663e+18     180.900700      23.645922      22.179135   \n",
       "75%    1.237668e+18     233.895005      39.901550      23.687440   \n",
       "max    1.237681e+18     359.999810      83.000519      32.781390   \n",
       "\n",
       "                   g              r              i              z  \\\n",
       "count  100000.000000  100000.000000  100000.000000  100000.000000   \n",
       "mean       20.531387      19.645762      19.084854      18.668810   \n",
       "std        31.750292       1.854760       1.757895      31.728152   \n",
       "min     -9999.000000       9.822070       9.469903   -9999.000000   \n",
       "25%        18.965230      18.135828      17.732285      17.460677   \n",
       "50%        21.099835      20.125290      19.405145      19.004595   \n",
       "75%        22.123767      21.044785      20.396495      19.921120   \n",
       "max        31.602240      29.571860      32.141470      29.383740   \n",
       "\n",
       "              run_ID  rerun_ID        cam_col       field_ID   spec_obj_ID  \\\n",
       "count  100000.000000  100000.0  100000.000000  100000.000000  1.000000e+05   \n",
       "mean     4481.366060     301.0       3.511610     186.130520  5.783882e+18   \n",
       "std      1964.764593       0.0       1.586912     149.011073  3.324016e+18   \n",
       "min       109.000000     301.0       1.000000      11.000000  2.995191e+17   \n",
       "25%      3187.000000     301.0       2.000000      82.000000  2.844138e+18   \n",
       "50%      4188.000000     301.0       4.000000     146.000000  5.614883e+18   \n",
       "75%      5326.000000     301.0       5.000000     241.000000  8.332144e+18   \n",
       "max      8162.000000     301.0       6.000000     989.000000  1.412694e+19   \n",
       "\n",
       "            redshift          plate            MJD       fiber_ID  \n",
       "count  100000.000000  100000.000000  100000.000000  100000.000000  \n",
       "mean        0.576661    5137.009660   55588.647500     449.312740  \n",
       "std         0.730707    2952.303351    1808.484233     272.498404  \n",
       "min        -0.009971     266.000000   51608.000000       1.000000  \n",
       "25%         0.054517    2526.000000   54234.000000     221.000000  \n",
       "50%         0.424173    4987.000000   55868.500000     433.000000  \n",
       "75%         0.704154    7400.250000   56777.000000     645.000000  \n",
       "max         7.011245   12547.000000   58932.000000    1000.000000  "
      ]
     },
     "execution_count": 5,
     "metadata": {},
     "output_type": "execute_result"
    }
   ],
   "source": [
    "#Visualización de la información estadística del conjunto de datos\n",
    "df.describe()"
   ]
  },
  {
   "cell_type": "code",
   "execution_count": 6,
   "id": "2b2fcb11",
   "metadata": {},
   "outputs": [
    {
     "data": {
      "text/plain": [
       "obj_ID         False\n",
       "alpha          False\n",
       "delta          False\n",
       "u              False\n",
       "g              False\n",
       "r              False\n",
       "i              False\n",
       "z              False\n",
       "run_ID         False\n",
       "rerun_ID       False\n",
       "cam_col        False\n",
       "field_ID       False\n",
       "spec_obj_ID    False\n",
       "class          False\n",
       "redshift       False\n",
       "plate          False\n",
       "MJD            False\n",
       "fiber_ID       False\n",
       "dtype: bool"
      ]
     },
     "execution_count": 6,
     "metadata": {},
     "output_type": "execute_result"
    }
   ],
   "source": [
    "#Validación si hay algún valor nulo en el conjunto de datos.\n",
    "df.isna().any()"
   ]
  },
  {
   "cell_type": "code",
   "execution_count": 7,
   "id": "70d50712",
   "metadata": {},
   "outputs": [
    {
     "data": {
      "text/plain": [
       "GALAXY    59445\n",
       "STAR      21594\n",
       "QSO       18961\n",
       "Name: class, dtype: int64"
      ]
     },
     "execution_count": 7,
     "metadata": {},
     "output_type": "execute_result"
    }
   ],
   "source": [
    "df['class'].value_counts()"
   ]
  },
  {
   "cell_type": "code",
   "execution_count": 8,
   "id": "429bdea8",
   "metadata": {},
   "outputs": [],
   "source": [
    "# Copiamos el conjunto de datos y transformamos la variable de salida a numérica para calcular correlaciones\n",
    "df_new = df.copy()\n",
    "df_new['class'] = df_new['class'].factorize()[0]"
   ]
  },
  {
   "cell_type": "code",
   "execution_count": 9,
   "id": "31f5a8b0",
   "metadata": {},
   "outputs": [
    {
     "data": {
      "text/html": [
       "<div>\n",
       "<style scoped>\n",
       "    .dataframe tbody tr th:only-of-type {\n",
       "        vertical-align: middle;\n",
       "    }\n",
       "\n",
       "    .dataframe tbody tr th {\n",
       "        vertical-align: top;\n",
       "    }\n",
       "\n",
       "    .dataframe thead th {\n",
       "        text-align: right;\n",
       "    }\n",
       "</style>\n",
       "<table border=\"1\" class=\"dataframe\">\n",
       "  <thead>\n",
       "    <tr style=\"text-align: right;\">\n",
       "      <th></th>\n",
       "      <th>obj_ID</th>\n",
       "      <th>alpha</th>\n",
       "      <th>delta</th>\n",
       "      <th>u</th>\n",
       "      <th>g</th>\n",
       "      <th>r</th>\n",
       "      <th>i</th>\n",
       "      <th>z</th>\n",
       "      <th>run_ID</th>\n",
       "      <th>rerun_ID</th>\n",
       "      <th>cam_col</th>\n",
       "      <th>field_ID</th>\n",
       "      <th>spec_obj_ID</th>\n",
       "      <th>class</th>\n",
       "      <th>redshift</th>\n",
       "      <th>plate</th>\n",
       "      <th>MJD</th>\n",
       "      <th>fiber_ID</th>\n",
       "    </tr>\n",
       "  </thead>\n",
       "  <tbody>\n",
       "    <tr>\n",
       "      <th>0</th>\n",
       "      <td>1.237661e+18</td>\n",
       "      <td>135.689107</td>\n",
       "      <td>32.494632</td>\n",
       "      <td>23.87882</td>\n",
       "      <td>22.27530</td>\n",
       "      <td>20.39501</td>\n",
       "      <td>19.16573</td>\n",
       "      <td>18.79371</td>\n",
       "      <td>3606</td>\n",
       "      <td>301</td>\n",
       "      <td>2</td>\n",
       "      <td>79</td>\n",
       "      <td>6.543777e+18</td>\n",
       "      <td>0</td>\n",
       "      <td>0.634794</td>\n",
       "      <td>5812</td>\n",
       "      <td>56354</td>\n",
       "      <td>171</td>\n",
       "    </tr>\n",
       "    <tr>\n",
       "      <th>1</th>\n",
       "      <td>1.237665e+18</td>\n",
       "      <td>144.826101</td>\n",
       "      <td>31.274185</td>\n",
       "      <td>24.77759</td>\n",
       "      <td>22.83188</td>\n",
       "      <td>22.58444</td>\n",
       "      <td>21.16812</td>\n",
       "      <td>21.61427</td>\n",
       "      <td>4518</td>\n",
       "      <td>301</td>\n",
       "      <td>5</td>\n",
       "      <td>119</td>\n",
       "      <td>1.176014e+19</td>\n",
       "      <td>0</td>\n",
       "      <td>0.779136</td>\n",
       "      <td>10445</td>\n",
       "      <td>58158</td>\n",
       "      <td>427</td>\n",
       "    </tr>\n",
       "    <tr>\n",
       "      <th>2</th>\n",
       "      <td>1.237661e+18</td>\n",
       "      <td>142.188790</td>\n",
       "      <td>35.582444</td>\n",
       "      <td>25.26307</td>\n",
       "      <td>22.66389</td>\n",
       "      <td>20.60976</td>\n",
       "      <td>19.34857</td>\n",
       "      <td>18.94827</td>\n",
       "      <td>3606</td>\n",
       "      <td>301</td>\n",
       "      <td>2</td>\n",
       "      <td>120</td>\n",
       "      <td>5.152200e+18</td>\n",
       "      <td>0</td>\n",
       "      <td>0.644195</td>\n",
       "      <td>4576</td>\n",
       "      <td>55592</td>\n",
       "      <td>299</td>\n",
       "    </tr>\n",
       "    <tr>\n",
       "      <th>3</th>\n",
       "      <td>1.237663e+18</td>\n",
       "      <td>338.741038</td>\n",
       "      <td>-0.402828</td>\n",
       "      <td>22.13682</td>\n",
       "      <td>23.77656</td>\n",
       "      <td>21.61162</td>\n",
       "      <td>20.50454</td>\n",
       "      <td>19.25010</td>\n",
       "      <td>4192</td>\n",
       "      <td>301</td>\n",
       "      <td>3</td>\n",
       "      <td>214</td>\n",
       "      <td>1.030107e+19</td>\n",
       "      <td>0</td>\n",
       "      <td>0.932346</td>\n",
       "      <td>9149</td>\n",
       "      <td>58039</td>\n",
       "      <td>775</td>\n",
       "    </tr>\n",
       "    <tr>\n",
       "      <th>4</th>\n",
       "      <td>1.237680e+18</td>\n",
       "      <td>345.282593</td>\n",
       "      <td>21.183866</td>\n",
       "      <td>19.43718</td>\n",
       "      <td>17.58028</td>\n",
       "      <td>16.49747</td>\n",
       "      <td>15.97711</td>\n",
       "      <td>15.54461</td>\n",
       "      <td>8102</td>\n",
       "      <td>301</td>\n",
       "      <td>3</td>\n",
       "      <td>137</td>\n",
       "      <td>6.891865e+18</td>\n",
       "      <td>0</td>\n",
       "      <td>0.116123</td>\n",
       "      <td>6121</td>\n",
       "      <td>56187</td>\n",
       "      <td>842</td>\n",
       "    </tr>\n",
       "    <tr>\n",
       "      <th>...</th>\n",
       "      <td>...</td>\n",
       "      <td>...</td>\n",
       "      <td>...</td>\n",
       "      <td>...</td>\n",
       "      <td>...</td>\n",
       "      <td>...</td>\n",
       "      <td>...</td>\n",
       "      <td>...</td>\n",
       "      <td>...</td>\n",
       "      <td>...</td>\n",
       "      <td>...</td>\n",
       "      <td>...</td>\n",
       "      <td>...</td>\n",
       "      <td>...</td>\n",
       "      <td>...</td>\n",
       "      <td>...</td>\n",
       "      <td>...</td>\n",
       "      <td>...</td>\n",
       "    </tr>\n",
       "    <tr>\n",
       "      <th>99995</th>\n",
       "      <td>1.237679e+18</td>\n",
       "      <td>39.620709</td>\n",
       "      <td>-2.594074</td>\n",
       "      <td>22.16759</td>\n",
       "      <td>22.97586</td>\n",
       "      <td>21.90404</td>\n",
       "      <td>21.30548</td>\n",
       "      <td>20.73569</td>\n",
       "      <td>7778</td>\n",
       "      <td>301</td>\n",
       "      <td>2</td>\n",
       "      <td>581</td>\n",
       "      <td>1.055431e+19</td>\n",
       "      <td>0</td>\n",
       "      <td>0.000000</td>\n",
       "      <td>9374</td>\n",
       "      <td>57749</td>\n",
       "      <td>438</td>\n",
       "    </tr>\n",
       "    <tr>\n",
       "      <th>99996</th>\n",
       "      <td>1.237679e+18</td>\n",
       "      <td>29.493819</td>\n",
       "      <td>19.798874</td>\n",
       "      <td>22.69118</td>\n",
       "      <td>22.38628</td>\n",
       "      <td>20.45003</td>\n",
       "      <td>19.75759</td>\n",
       "      <td>19.41526</td>\n",
       "      <td>7917</td>\n",
       "      <td>301</td>\n",
       "      <td>1</td>\n",
       "      <td>289</td>\n",
       "      <td>8.586351e+18</td>\n",
       "      <td>0</td>\n",
       "      <td>0.404895</td>\n",
       "      <td>7626</td>\n",
       "      <td>56934</td>\n",
       "      <td>866</td>\n",
       "    </tr>\n",
       "    <tr>\n",
       "      <th>99997</th>\n",
       "      <td>1.237668e+18</td>\n",
       "      <td>224.587407</td>\n",
       "      <td>15.700707</td>\n",
       "      <td>21.16916</td>\n",
       "      <td>19.26997</td>\n",
       "      <td>18.20428</td>\n",
       "      <td>17.69034</td>\n",
       "      <td>17.35221</td>\n",
       "      <td>5314</td>\n",
       "      <td>301</td>\n",
       "      <td>4</td>\n",
       "      <td>308</td>\n",
       "      <td>3.112008e+18</td>\n",
       "      <td>0</td>\n",
       "      <td>0.143366</td>\n",
       "      <td>2764</td>\n",
       "      <td>54535</td>\n",
       "      <td>74</td>\n",
       "    </tr>\n",
       "    <tr>\n",
       "      <th>99998</th>\n",
       "      <td>1.237661e+18</td>\n",
       "      <td>212.268621</td>\n",
       "      <td>46.660365</td>\n",
       "      <td>25.35039</td>\n",
       "      <td>21.63757</td>\n",
       "      <td>19.91386</td>\n",
       "      <td>19.07254</td>\n",
       "      <td>18.62482</td>\n",
       "      <td>3650</td>\n",
       "      <td>301</td>\n",
       "      <td>4</td>\n",
       "      <td>131</td>\n",
       "      <td>7.601080e+18</td>\n",
       "      <td>0</td>\n",
       "      <td>0.455040</td>\n",
       "      <td>6751</td>\n",
       "      <td>56368</td>\n",
       "      <td>470</td>\n",
       "    </tr>\n",
       "    <tr>\n",
       "      <th>99999</th>\n",
       "      <td>1.237661e+18</td>\n",
       "      <td>196.896053</td>\n",
       "      <td>49.464643</td>\n",
       "      <td>22.62171</td>\n",
       "      <td>21.79745</td>\n",
       "      <td>20.60115</td>\n",
       "      <td>20.00959</td>\n",
       "      <td>19.28075</td>\n",
       "      <td>3650</td>\n",
       "      <td>301</td>\n",
       "      <td>4</td>\n",
       "      <td>60</td>\n",
       "      <td>8.343152e+18</td>\n",
       "      <td>0</td>\n",
       "      <td>0.542944</td>\n",
       "      <td>7410</td>\n",
       "      <td>57104</td>\n",
       "      <td>851</td>\n",
       "    </tr>\n",
       "  </tbody>\n",
       "</table>\n",
       "<p>100000 rows × 18 columns</p>\n",
       "</div>"
      ],
      "text/plain": [
       "             obj_ID       alpha      delta         u         g         r  \\\n",
       "0      1.237661e+18  135.689107  32.494632  23.87882  22.27530  20.39501   \n",
       "1      1.237665e+18  144.826101  31.274185  24.77759  22.83188  22.58444   \n",
       "2      1.237661e+18  142.188790  35.582444  25.26307  22.66389  20.60976   \n",
       "3      1.237663e+18  338.741038  -0.402828  22.13682  23.77656  21.61162   \n",
       "4      1.237680e+18  345.282593  21.183866  19.43718  17.58028  16.49747   \n",
       "...             ...         ...        ...       ...       ...       ...   \n",
       "99995  1.237679e+18   39.620709  -2.594074  22.16759  22.97586  21.90404   \n",
       "99996  1.237679e+18   29.493819  19.798874  22.69118  22.38628  20.45003   \n",
       "99997  1.237668e+18  224.587407  15.700707  21.16916  19.26997  18.20428   \n",
       "99998  1.237661e+18  212.268621  46.660365  25.35039  21.63757  19.91386   \n",
       "99999  1.237661e+18  196.896053  49.464643  22.62171  21.79745  20.60115   \n",
       "\n",
       "              i         z  run_ID  rerun_ID  cam_col  field_ID   spec_obj_ID  \\\n",
       "0      19.16573  18.79371    3606       301        2        79  6.543777e+18   \n",
       "1      21.16812  21.61427    4518       301        5       119  1.176014e+19   \n",
       "2      19.34857  18.94827    3606       301        2       120  5.152200e+18   \n",
       "3      20.50454  19.25010    4192       301        3       214  1.030107e+19   \n",
       "4      15.97711  15.54461    8102       301        3       137  6.891865e+18   \n",
       "...         ...       ...     ...       ...      ...       ...           ...   \n",
       "99995  21.30548  20.73569    7778       301        2       581  1.055431e+19   \n",
       "99996  19.75759  19.41526    7917       301        1       289  8.586351e+18   \n",
       "99997  17.69034  17.35221    5314       301        4       308  3.112008e+18   \n",
       "99998  19.07254  18.62482    3650       301        4       131  7.601080e+18   \n",
       "99999  20.00959  19.28075    3650       301        4        60  8.343152e+18   \n",
       "\n",
       "       class  redshift  plate    MJD  fiber_ID  \n",
       "0          0  0.634794   5812  56354       171  \n",
       "1          0  0.779136  10445  58158       427  \n",
       "2          0  0.644195   4576  55592       299  \n",
       "3          0  0.932346   9149  58039       775  \n",
       "4          0  0.116123   6121  56187       842  \n",
       "...      ...       ...    ...    ...       ...  \n",
       "99995      0  0.000000   9374  57749       438  \n",
       "99996      0  0.404895   7626  56934       866  \n",
       "99997      0  0.143366   2764  54535        74  \n",
       "99998      0  0.455040   6751  56368       470  \n",
       "99999      0  0.542944   7410  57104       851  \n",
       "\n",
       "[100000 rows x 18 columns]"
      ]
     },
     "execution_count": 9,
     "metadata": {},
     "output_type": "execute_result"
    }
   ],
   "source": [
    "df_new"
   ]
  },
  {
   "cell_type": "code",
   "execution_count": 10,
   "id": "bfed4299",
   "metadata": {},
   "outputs": [
    {
     "data": {
      "text/plain": [
       "0    59445\n",
       "2    21594\n",
       "1    18961\n",
       "Name: class, dtype: int64"
      ]
     },
     "execution_count": 10,
     "metadata": {},
     "output_type": "execute_result"
    }
   ],
   "source": [
    "df_new['class'].value_counts()"
   ]
  },
  {
   "cell_type": "code",
   "execution_count": 11,
   "id": "623f47b6",
   "metadata": {},
   "outputs": [
    {
     "data": {
      "text/plain": [
       "class          1.000000\n",
       "cam_col        0.023138\n",
       "i              0.015028\n",
       "delta          0.014452\n",
       "MJD           -0.000405\n",
       "z             -0.001614\n",
       "plate         -0.010060\n",
       "spec_obj_ID   -0.010060\n",
       "alpha         -0.011756\n",
       "g             -0.020066\n",
       "u             -0.024645\n",
       "field_ID      -0.034833\n",
       "obj_ID        -0.036012\n",
       "run_ID        -0.036014\n",
       "fiber_ID      -0.041586\n",
       "redshift      -0.054239\n",
       "r             -0.076766\n",
       "rerun_ID            NaN\n",
       "Name: class, dtype: float64"
      ]
     },
     "execution_count": 11,
     "metadata": {},
     "output_type": "execute_result"
    }
   ],
   "source": [
    "# Validación de la correlación entre las variables de entrada con relación a la variable de salida.\n",
    "corr_matrix = df_new.corr()\n",
    "corr_matrix[\"class\"].sort_values(ascending=False)"
   ]
  },
  {
   "cell_type": "code",
   "execution_count": 12,
   "id": "3cddb832",
   "metadata": {},
   "outputs": [],
   "source": [
    "#Eliminación de datos que son irrelevantes y que podrian afectar el resultado.\n",
    "df_new2 = df_new.drop(['obj_ID','run_ID','rerun_ID','field_ID','fiber_ID'], axis=1)"
   ]
  },
  {
   "cell_type": "code",
   "execution_count": 13,
   "id": "950017b7",
   "metadata": {},
   "outputs": [
    {
     "data": {
      "text/html": [
       "<div>\n",
       "<style scoped>\n",
       "    .dataframe tbody tr th:only-of-type {\n",
       "        vertical-align: middle;\n",
       "    }\n",
       "\n",
       "    .dataframe tbody tr th {\n",
       "        vertical-align: top;\n",
       "    }\n",
       "\n",
       "    .dataframe thead th {\n",
       "        text-align: right;\n",
       "    }\n",
       "</style>\n",
       "<table border=\"1\" class=\"dataframe\">\n",
       "  <thead>\n",
       "    <tr style=\"text-align: right;\">\n",
       "      <th></th>\n",
       "      <th>alpha</th>\n",
       "      <th>delta</th>\n",
       "      <th>u</th>\n",
       "      <th>g</th>\n",
       "      <th>r</th>\n",
       "      <th>i</th>\n",
       "      <th>z</th>\n",
       "      <th>cam_col</th>\n",
       "      <th>spec_obj_ID</th>\n",
       "      <th>class</th>\n",
       "      <th>redshift</th>\n",
       "      <th>plate</th>\n",
       "      <th>MJD</th>\n",
       "    </tr>\n",
       "  </thead>\n",
       "  <tbody>\n",
       "    <tr>\n",
       "      <th>0</th>\n",
       "      <td>135.689107</td>\n",
       "      <td>32.494632</td>\n",
       "      <td>23.87882</td>\n",
       "      <td>22.27530</td>\n",
       "      <td>20.39501</td>\n",
       "      <td>19.16573</td>\n",
       "      <td>18.79371</td>\n",
       "      <td>2</td>\n",
       "      <td>6.543777e+18</td>\n",
       "      <td>0</td>\n",
       "      <td>0.634794</td>\n",
       "      <td>5812</td>\n",
       "      <td>56354</td>\n",
       "    </tr>\n",
       "    <tr>\n",
       "      <th>1</th>\n",
       "      <td>144.826101</td>\n",
       "      <td>31.274185</td>\n",
       "      <td>24.77759</td>\n",
       "      <td>22.83188</td>\n",
       "      <td>22.58444</td>\n",
       "      <td>21.16812</td>\n",
       "      <td>21.61427</td>\n",
       "      <td>5</td>\n",
       "      <td>1.176014e+19</td>\n",
       "      <td>0</td>\n",
       "      <td>0.779136</td>\n",
       "      <td>10445</td>\n",
       "      <td>58158</td>\n",
       "    </tr>\n",
       "    <tr>\n",
       "      <th>2</th>\n",
       "      <td>142.188790</td>\n",
       "      <td>35.582444</td>\n",
       "      <td>25.26307</td>\n",
       "      <td>22.66389</td>\n",
       "      <td>20.60976</td>\n",
       "      <td>19.34857</td>\n",
       "      <td>18.94827</td>\n",
       "      <td>2</td>\n",
       "      <td>5.152200e+18</td>\n",
       "      <td>0</td>\n",
       "      <td>0.644195</td>\n",
       "      <td>4576</td>\n",
       "      <td>55592</td>\n",
       "    </tr>\n",
       "    <tr>\n",
       "      <th>3</th>\n",
       "      <td>338.741038</td>\n",
       "      <td>-0.402828</td>\n",
       "      <td>22.13682</td>\n",
       "      <td>23.77656</td>\n",
       "      <td>21.61162</td>\n",
       "      <td>20.50454</td>\n",
       "      <td>19.25010</td>\n",
       "      <td>3</td>\n",
       "      <td>1.030107e+19</td>\n",
       "      <td>0</td>\n",
       "      <td>0.932346</td>\n",
       "      <td>9149</td>\n",
       "      <td>58039</td>\n",
       "    </tr>\n",
       "    <tr>\n",
       "      <th>4</th>\n",
       "      <td>345.282593</td>\n",
       "      <td>21.183866</td>\n",
       "      <td>19.43718</td>\n",
       "      <td>17.58028</td>\n",
       "      <td>16.49747</td>\n",
       "      <td>15.97711</td>\n",
       "      <td>15.54461</td>\n",
       "      <td>3</td>\n",
       "      <td>6.891865e+18</td>\n",
       "      <td>0</td>\n",
       "      <td>0.116123</td>\n",
       "      <td>6121</td>\n",
       "      <td>56187</td>\n",
       "    </tr>\n",
       "    <tr>\n",
       "      <th>...</th>\n",
       "      <td>...</td>\n",
       "      <td>...</td>\n",
       "      <td>...</td>\n",
       "      <td>...</td>\n",
       "      <td>...</td>\n",
       "      <td>...</td>\n",
       "      <td>...</td>\n",
       "      <td>...</td>\n",
       "      <td>...</td>\n",
       "      <td>...</td>\n",
       "      <td>...</td>\n",
       "      <td>...</td>\n",
       "      <td>...</td>\n",
       "    </tr>\n",
       "    <tr>\n",
       "      <th>99995</th>\n",
       "      <td>39.620709</td>\n",
       "      <td>-2.594074</td>\n",
       "      <td>22.16759</td>\n",
       "      <td>22.97586</td>\n",
       "      <td>21.90404</td>\n",
       "      <td>21.30548</td>\n",
       "      <td>20.73569</td>\n",
       "      <td>2</td>\n",
       "      <td>1.055431e+19</td>\n",
       "      <td>0</td>\n",
       "      <td>0.000000</td>\n",
       "      <td>9374</td>\n",
       "      <td>57749</td>\n",
       "    </tr>\n",
       "    <tr>\n",
       "      <th>99996</th>\n",
       "      <td>29.493819</td>\n",
       "      <td>19.798874</td>\n",
       "      <td>22.69118</td>\n",
       "      <td>22.38628</td>\n",
       "      <td>20.45003</td>\n",
       "      <td>19.75759</td>\n",
       "      <td>19.41526</td>\n",
       "      <td>1</td>\n",
       "      <td>8.586351e+18</td>\n",
       "      <td>0</td>\n",
       "      <td>0.404895</td>\n",
       "      <td>7626</td>\n",
       "      <td>56934</td>\n",
       "    </tr>\n",
       "    <tr>\n",
       "      <th>99997</th>\n",
       "      <td>224.587407</td>\n",
       "      <td>15.700707</td>\n",
       "      <td>21.16916</td>\n",
       "      <td>19.26997</td>\n",
       "      <td>18.20428</td>\n",
       "      <td>17.69034</td>\n",
       "      <td>17.35221</td>\n",
       "      <td>4</td>\n",
       "      <td>3.112008e+18</td>\n",
       "      <td>0</td>\n",
       "      <td>0.143366</td>\n",
       "      <td>2764</td>\n",
       "      <td>54535</td>\n",
       "    </tr>\n",
       "    <tr>\n",
       "      <th>99998</th>\n",
       "      <td>212.268621</td>\n",
       "      <td>46.660365</td>\n",
       "      <td>25.35039</td>\n",
       "      <td>21.63757</td>\n",
       "      <td>19.91386</td>\n",
       "      <td>19.07254</td>\n",
       "      <td>18.62482</td>\n",
       "      <td>4</td>\n",
       "      <td>7.601080e+18</td>\n",
       "      <td>0</td>\n",
       "      <td>0.455040</td>\n",
       "      <td>6751</td>\n",
       "      <td>56368</td>\n",
       "    </tr>\n",
       "    <tr>\n",
       "      <th>99999</th>\n",
       "      <td>196.896053</td>\n",
       "      <td>49.464643</td>\n",
       "      <td>22.62171</td>\n",
       "      <td>21.79745</td>\n",
       "      <td>20.60115</td>\n",
       "      <td>20.00959</td>\n",
       "      <td>19.28075</td>\n",
       "      <td>4</td>\n",
       "      <td>8.343152e+18</td>\n",
       "      <td>0</td>\n",
       "      <td>0.542944</td>\n",
       "      <td>7410</td>\n",
       "      <td>57104</td>\n",
       "    </tr>\n",
       "  </tbody>\n",
       "</table>\n",
       "<p>100000 rows × 13 columns</p>\n",
       "</div>"
      ],
      "text/plain": [
       "            alpha      delta         u         g         r         i  \\\n",
       "0      135.689107  32.494632  23.87882  22.27530  20.39501  19.16573   \n",
       "1      144.826101  31.274185  24.77759  22.83188  22.58444  21.16812   \n",
       "2      142.188790  35.582444  25.26307  22.66389  20.60976  19.34857   \n",
       "3      338.741038  -0.402828  22.13682  23.77656  21.61162  20.50454   \n",
       "4      345.282593  21.183866  19.43718  17.58028  16.49747  15.97711   \n",
       "...           ...        ...       ...       ...       ...       ...   \n",
       "99995   39.620709  -2.594074  22.16759  22.97586  21.90404  21.30548   \n",
       "99996   29.493819  19.798874  22.69118  22.38628  20.45003  19.75759   \n",
       "99997  224.587407  15.700707  21.16916  19.26997  18.20428  17.69034   \n",
       "99998  212.268621  46.660365  25.35039  21.63757  19.91386  19.07254   \n",
       "99999  196.896053  49.464643  22.62171  21.79745  20.60115  20.00959   \n",
       "\n",
       "              z  cam_col   spec_obj_ID  class  redshift  plate    MJD  \n",
       "0      18.79371        2  6.543777e+18      0  0.634794   5812  56354  \n",
       "1      21.61427        5  1.176014e+19      0  0.779136  10445  58158  \n",
       "2      18.94827        2  5.152200e+18      0  0.644195   4576  55592  \n",
       "3      19.25010        3  1.030107e+19      0  0.932346   9149  58039  \n",
       "4      15.54461        3  6.891865e+18      0  0.116123   6121  56187  \n",
       "...         ...      ...           ...    ...       ...    ...    ...  \n",
       "99995  20.73569        2  1.055431e+19      0  0.000000   9374  57749  \n",
       "99996  19.41526        1  8.586351e+18      0  0.404895   7626  56934  \n",
       "99997  17.35221        4  3.112008e+18      0  0.143366   2764  54535  \n",
       "99998  18.62482        4  7.601080e+18      0  0.455040   6751  56368  \n",
       "99999  19.28075        4  8.343152e+18      0  0.542944   7410  57104  \n",
       "\n",
       "[100000 rows x 13 columns]"
      ]
     },
     "execution_count": 13,
     "metadata": {},
     "output_type": "execute_result"
    }
   ],
   "source": [
    "#Vizualición de los cambios aplicados\n",
    "df_new2"
   ]
  },
  {
   "cell_type": "code",
   "execution_count": 14,
   "id": "ddf962d8",
   "metadata": {},
   "outputs": [
    {
     "data": {
      "image/png": "[encoded data removed]",
      "text/plain": [
       "<Figure size 1440x1080 with 16 Axes>"
      ]
     },
     "metadata": {
      "needs_background": "light"
     },
     "output_type": "display_data"
    }
   ],
   "source": [
    "# Representación gráfica de la distribución de los atributos\n",
    "df_new2.hist(bins=50, figsize=(20,15))\n",
    "plt.show()"
   ]
  },
  {
   "cell_type": "code",
   "execution_count": 15,
   "id": "33e1cf14",
   "metadata": {},
   "outputs": [
    {
     "data": {
      "image/png": "[encoded data removed]",
      "text/plain": [
       "<Figure size 576x432 with 1 Axes>"
      ]
     },
     "metadata": {},
     "output_type": "display_data"
    }
   ],
   "source": [
    "#Creación de una gráfica para representar el porcentaje de las observaciones segun sus 3 clases\n",
    "Gender = df['class'].value_counts()\n",
    "\n",
    "fig, ax = plt.subplots(figsize =(8, 6))\n",
    "_, _, autotexts = ax.pie(x=Gender, labels=Gender.index, autopct=\"%.2f%%\", radius=1.2,\n",
    "                         colors=sns.color_palette(\"YlOrBr_r\"), explode=None, textprops=dict(fontsize=13))\n",
    "\n",
    "ax.set_title('Porcentaje de clases', y=1.1,  weight='bold', fontsize=14)\n",
    "ax.legend(labels=['Galaxias','Estrellas','Objeto cuásar'], fontsize=14)\n",
    "\n",
    "for autotext in autotexts:\n",
    "    autotext.set_color('white')\n",
    "    autotext.set_weight('bold')"
   ]
  },
  {
   "cell_type": "markdown",
   "id": "4e2b5089",
   "metadata": {},
   "source": [
    "## Escalado de los datos"
   ]
  },
  {
   "cell_type": "code",
   "execution_count": 16,
   "id": "4859aee8",
   "metadata": {},
   "outputs": [],
   "source": [
    "# Conjunto de datos general\n",
    "X_df = df_new2.drop(\"class\", axis=1)\n",
    "y_df = df_new2[\"class\"].copy()"
   ]
  },
  {
   "cell_type": "code",
   "execution_count": 17,
   "id": "18b80564",
   "metadata": {},
   "outputs": [],
   "source": [
    "#Escalado de los datos\n",
    "scaler = RobustScaler()\n",
    "X_scaled = scaler.fit_transform(X_df)"
   ]
  },
  {
   "cell_type": "code",
   "execution_count": 18,
   "id": "af04ff6a",
   "metadata": {},
   "outputs": [],
   "source": [
    "# Transformación a un DataFrame de Pandas\n",
    "X_scaled = pd.DataFrame(X_scaled, columns=X_df.columns, index=X_df.index)"
   ]
  },
  {
   "cell_type": "code",
   "execution_count": 19,
   "id": "d29b1413",
   "metadata": {},
   "outputs": [
    {
     "data": {
      "text/html": [
       "<div>\n",
       "<style scoped>\n",
       "    .dataframe tbody tr th:only-of-type {\n",
       "        vertical-align: middle;\n",
       "    }\n",
       "\n",
       "    .dataframe tbody tr th {\n",
       "        vertical-align: top;\n",
       "    }\n",
       "\n",
       "    .dataframe thead th {\n",
       "        text-align: right;\n",
       "    }\n",
       "</style>\n",
       "<table border=\"1\" class=\"dataframe\">\n",
       "  <thead>\n",
       "    <tr style=\"text-align: right;\">\n",
       "      <th></th>\n",
       "      <th>alpha</th>\n",
       "      <th>delta</th>\n",
       "      <th>u</th>\n",
       "      <th>g</th>\n",
       "      <th>r</th>\n",
       "      <th>i</th>\n",
       "      <th>z</th>\n",
       "      <th>cam_col</th>\n",
       "      <th>spec_obj_ID</th>\n",
       "      <th>redshift</th>\n",
       "      <th>plate</th>\n",
       "      <th>MJD</th>\n",
       "    </tr>\n",
       "  </thead>\n",
       "  <tbody>\n",
       "    <tr>\n",
       "      <th>0</th>\n",
       "      <td>-0.425014</td>\n",
       "      <td>0.254604</td>\n",
       "      <td>0.509637</td>\n",
       "      <td>0.372155</td>\n",
       "      <td>0.092721</td>\n",
       "      <td>-0.089863</td>\n",
       "      <td>-0.085710</td>\n",
       "      <td>-0.666667</td>\n",
       "      <td>0.169259</td>\n",
       "      <td>0.324212</td>\n",
       "      <td>0.169257</td>\n",
       "      <td>0.190916</td>\n",
       "    </tr>\n",
       "    <tr>\n",
       "      <th>1</th>\n",
       "      <td>-0.339121</td>\n",
       "      <td>0.219488</td>\n",
       "      <td>0.779126</td>\n",
       "      <td>0.548369</td>\n",
       "      <td>0.845372</td>\n",
       "      <td>0.661725</td>\n",
       "      <td>1.060653</td>\n",
       "      <td>0.333333</td>\n",
       "      <td>1.119762</td>\n",
       "      <td>0.546401</td>\n",
       "      <td>1.119762</td>\n",
       "      <td>0.900315</td>\n",
       "    </tr>\n",
       "    <tr>\n",
       "      <th>2</th>\n",
       "      <td>-0.363913</td>\n",
       "      <td>0.343450</td>\n",
       "      <td>0.924694</td>\n",
       "      <td>0.495183</td>\n",
       "      <td>0.166544</td>\n",
       "      <td>-0.021235</td>\n",
       "      <td>-0.022892</td>\n",
       "      <td>-0.666667</td>\n",
       "      <td>-0.084308</td>\n",
       "      <td>0.338683</td>\n",
       "      <td>-0.084321</td>\n",
       "      <td>-0.108730</td>\n",
       "    </tr>\n",
       "    <tr>\n",
       "      <th>3</th>\n",
       "      <td>1.483786</td>\n",
       "      <td>-0.691955</td>\n",
       "      <td>-0.012688</td>\n",
       "      <td>0.847457</td>\n",
       "      <td>0.510949</td>\n",
       "      <td>0.412653</td>\n",
       "      <td>0.099781</td>\n",
       "      <td>-0.333333</td>\n",
       "      <td>0.853896</td>\n",
       "      <td>0.782240</td>\n",
       "      <td>0.853875</td>\n",
       "      <td>0.853519</td>\n",
       "    </tr>\n",
       "    <tr>\n",
       "      <th>4</th>\n",
       "      <td>1.545280</td>\n",
       "      <td>-0.070841</td>\n",
       "      <td>-0.822154</td>\n",
       "      <td>-1.114299</td>\n",
       "      <td>-1.247120</td>\n",
       "      <td>-1.286698</td>\n",
       "      <td>-1.406245</td>\n",
       "      <td>-0.333333</td>\n",
       "      <td>0.232686</td>\n",
       "      <td>-0.474188</td>\n",
       "      <td>0.232651</td>\n",
       "      <td>0.125246</td>\n",
       "    </tr>\n",
       "    <tr>\n",
       "      <th>...</th>\n",
       "      <td>...</td>\n",
       "      <td>...</td>\n",
       "      <td>...</td>\n",
       "      <td>...</td>\n",
       "      <td>...</td>\n",
       "      <td>...</td>\n",
       "      <td>...</td>\n",
       "      <td>...</td>\n",
       "      <td>...</td>\n",
       "      <td>...</td>\n",
       "      <td>...</td>\n",
       "      <td>...</td>\n",
       "    </tr>\n",
       "    <tr>\n",
       "      <th>99995</th>\n",
       "      <td>-1.328109</td>\n",
       "      <td>-0.755004</td>\n",
       "      <td>-0.003462</td>\n",
       "      <td>0.593954</td>\n",
       "      <td>0.611473</td>\n",
       "      <td>0.713283</td>\n",
       "      <td>0.703571</td>\n",
       "      <td>-0.666667</td>\n",
       "      <td>0.900040</td>\n",
       "      <td>-0.652938</td>\n",
       "      <td>0.900036</td>\n",
       "      <td>0.739481</td>\n",
       "    </tr>\n",
       "    <tr>\n",
       "      <th>99996</th>\n",
       "      <td>-1.423308</td>\n",
       "      <td>-0.110691</td>\n",
       "      <td>0.153533</td>\n",
       "      <td>0.407291</td>\n",
       "      <td>0.111634</td>\n",
       "      <td>0.132289</td>\n",
       "      <td>0.166907</td>\n",
       "      <td>-1.000000</td>\n",
       "      <td>0.541448</td>\n",
       "      <td>-0.029675</td>\n",
       "      <td>0.541417</td>\n",
       "      <td>0.418993</td>\n",
       "    </tr>\n",
       "    <tr>\n",
       "      <th>99997</th>\n",
       "      <td>0.410679</td>\n",
       "      <td>-0.228608</td>\n",
       "      <td>-0.302833</td>\n",
       "      <td>-0.579339</td>\n",
       "      <td>-0.660377</td>\n",
       "      <td>-0.643645</td>\n",
       "      <td>-0.671580</td>\n",
       "      <td>0.000000</td>\n",
       "      <td>-0.456063</td>\n",
       "      <td>-0.432253</td>\n",
       "      <td>-0.456070</td>\n",
       "      <td>-0.524381</td>\n",
       "    </tr>\n",
       "    <tr>\n",
       "      <th>99998</th>\n",
       "      <td>0.294876</td>\n",
       "      <td>0.662195</td>\n",
       "      <td>0.950876</td>\n",
       "      <td>0.170248</td>\n",
       "      <td>-0.072682</td>\n",
       "      <td>-0.124842</td>\n",
       "      <td>-0.154352</td>\n",
       "      <td>0.000000</td>\n",
       "      <td>0.361916</td>\n",
       "      <td>0.047513</td>\n",
       "      <td>0.361902</td>\n",
       "      <td>0.196422</td>\n",
       "    </tr>\n",
       "    <tr>\n",
       "      <th>99999</th>\n",
       "      <td>0.150365</td>\n",
       "      <td>0.742883</td>\n",
       "      <td>0.132703</td>\n",
       "      <td>0.220866</td>\n",
       "      <td>0.163584</td>\n",
       "      <td>0.226876</td>\n",
       "      <td>0.112238</td>\n",
       "      <td>0.000000</td>\n",
       "      <td>0.497133</td>\n",
       "      <td>0.182827</td>\n",
       "      <td>0.497102</td>\n",
       "      <td>0.485843</td>\n",
       "    </tr>\n",
       "  </tbody>\n",
       "</table>\n",
       "<p>100000 rows × 12 columns</p>\n",
       "</div>"
      ],
      "text/plain": [
       "          alpha     delta         u         g         r         i         z  \\\n",
       "0     -0.425014  0.254604  0.509637  0.372155  0.092721 -0.089863 -0.085710   \n",
       "1     -0.339121  0.219488  0.779126  0.548369  0.845372  0.661725  1.060653   \n",
       "2     -0.363913  0.343450  0.924694  0.495183  0.166544 -0.021235 -0.022892   \n",
       "3      1.483786 -0.691955 -0.012688  0.847457  0.510949  0.412653  0.099781   \n",
       "4      1.545280 -0.070841 -0.822154 -1.114299 -1.247120 -1.286698 -1.406245   \n",
       "...         ...       ...       ...       ...       ...       ...       ...   \n",
       "99995 -1.328109 -0.755004 -0.003462  0.593954  0.611473  0.713283  0.703571   \n",
       "99996 -1.423308 -0.110691  0.153533  0.407291  0.111634  0.132289  0.166907   \n",
       "99997  0.410679 -0.228608 -0.302833 -0.579339 -0.660377 -0.643645 -0.671580   \n",
       "99998  0.294876  0.662195  0.950876  0.170248 -0.072682 -0.124842 -0.154352   \n",
       "99999  0.150365  0.742883  0.132703  0.220866  0.163584  0.226876  0.112238   \n",
       "\n",
       "        cam_col  spec_obj_ID  redshift     plate       MJD  \n",
       "0     -0.666667     0.169259  0.324212  0.169257  0.190916  \n",
       "1      0.333333     1.119762  0.546401  1.119762  0.900315  \n",
       "2     -0.666667    -0.084308  0.338683 -0.084321 -0.108730  \n",
       "3     -0.333333     0.853896  0.782240  0.853875  0.853519  \n",
       "4     -0.333333     0.232686 -0.474188  0.232651  0.125246  \n",
       "...         ...          ...       ...       ...       ...  \n",
       "99995 -0.666667     0.900040 -0.652938  0.900036  0.739481  \n",
       "99996 -1.000000     0.541448 -0.029675  0.541417  0.418993  \n",
       "99997  0.000000    -0.456063 -0.432253 -0.456070 -0.524381  \n",
       "99998  0.000000     0.361916  0.047513  0.361902  0.196422  \n",
       "99999  0.000000     0.497133  0.182827  0.497102  0.485843  \n",
       "\n",
       "[100000 rows x 12 columns]"
      ]
     },
     "execution_count": 19,
     "metadata": {},
     "output_type": "execute_result"
    }
   ],
   "source": [
    "#Visualización de los cambios\n",
    "X_scaled"
   ]
  },
  {
   "cell_type": "markdown",
   "id": "e910d363",
   "metadata": {},
   "source": [
    "## Balanceo del dataset"
   ]
  },
  {
   "cell_type": "markdown",
   "id": "bd44f4ab",
   "metadata": {},
   "source": [
    "Según el análisis realizado, el conjunto de datos posee un desbalance con 59445 datos de galaxias, 21594 de estrellas y 18961 de objetos cuásar, al entrenar los diferentes algoritmos generaria una matriz de confusión desbalanceda, por lo que se hara uso de la combinación de las técnicas de sobremuestreo y submuestreo para equilibrar la cantidad de datos."
   ]
  },
  {
   "cell_type": "code",
   "execution_count": 20,
   "id": "6aa4028a",
   "metadata": {},
   "outputs": [
    {
     "data": {
      "text/plain": [
       "0    59445\n",
       "2    21594\n",
       "1    18961\n",
       "Name: class, dtype: int64"
      ]
     },
     "execution_count": 20,
     "metadata": {},
     "output_type": "execute_result"
    }
   ],
   "source": [
    "y_df.value_counts()"
   ]
  },
  {
   "cell_type": "markdown",
   "id": "3faa7bc7",
   "metadata": {},
   "source": [
    "## Sobremuestreo + Submuestreo"
   ]
  },
  {
   "cell_type": "code",
   "execution_count": 21,
   "id": "16040e87",
   "metadata": {},
   "outputs": [],
   "source": [
    "#Importamos los paquetes\n",
    "from imblearn.combine import SMOTETomek\n",
    "\n",
    "#Inicialización del método combinado\n",
    "#SMOTE Tomek\n",
    "smoteT = SMOTETomek()"
   ]
  },
  {
   "cell_type": "code",
   "execution_count": 22,
   "id": "a0e65990",
   "metadata": {},
   "outputs": [
    {
     "data": {
      "text/html": [
       "<div>\n",
       "<style scoped>\n",
       "    .dataframe tbody tr th:only-of-type {\n",
       "        vertical-align: middle;\n",
       "    }\n",
       "\n",
       "    .dataframe tbody tr th {\n",
       "        vertical-align: top;\n",
       "    }\n",
       "\n",
       "    .dataframe thead th {\n",
       "        text-align: right;\n",
       "    }\n",
       "</style>\n",
       "<table border=\"1\" class=\"dataframe\">\n",
       "  <thead>\n",
       "    <tr style=\"text-align: right;\">\n",
       "      <th></th>\n",
       "      <th>alpha</th>\n",
       "      <th>delta</th>\n",
       "      <th>u</th>\n",
       "      <th>g</th>\n",
       "      <th>r</th>\n",
       "      <th>i</th>\n",
       "      <th>z</th>\n",
       "      <th>cam_col</th>\n",
       "      <th>spec_obj_ID</th>\n",
       "      <th>redshift</th>\n",
       "      <th>plate</th>\n",
       "      <th>MJD</th>\n",
       "    </tr>\n",
       "  </thead>\n",
       "  <tbody>\n",
       "    <tr>\n",
       "      <th>0</th>\n",
       "      <td>-0.425014</td>\n",
       "      <td>0.254604</td>\n",
       "      <td>0.509637</td>\n",
       "      <td>0.372155</td>\n",
       "      <td>0.092721</td>\n",
       "      <td>-0.089863</td>\n",
       "      <td>-0.085710</td>\n",
       "      <td>-0.666667</td>\n",
       "      <td>0.169259</td>\n",
       "      <td>0.324212</td>\n",
       "      <td>0.169257</td>\n",
       "      <td>0.190916</td>\n",
       "    </tr>\n",
       "    <tr>\n",
       "      <th>1</th>\n",
       "      <td>-0.339121</td>\n",
       "      <td>0.219488</td>\n",
       "      <td>0.779126</td>\n",
       "      <td>0.548369</td>\n",
       "      <td>0.845372</td>\n",
       "      <td>0.661725</td>\n",
       "      <td>1.060653</td>\n",
       "      <td>0.333333</td>\n",
       "      <td>1.119762</td>\n",
       "      <td>0.546401</td>\n",
       "      <td>1.119762</td>\n",
       "      <td>0.900315</td>\n",
       "    </tr>\n",
       "    <tr>\n",
       "      <th>2</th>\n",
       "      <td>-0.363913</td>\n",
       "      <td>0.343450</td>\n",
       "      <td>0.924694</td>\n",
       "      <td>0.495183</td>\n",
       "      <td>0.166544</td>\n",
       "      <td>-0.021235</td>\n",
       "      <td>-0.022892</td>\n",
       "      <td>-0.666667</td>\n",
       "      <td>-0.084308</td>\n",
       "      <td>0.338683</td>\n",
       "      <td>-0.084321</td>\n",
       "      <td>-0.108730</td>\n",
       "    </tr>\n",
       "    <tr>\n",
       "      <th>3</th>\n",
       "      <td>1.483786</td>\n",
       "      <td>-0.691955</td>\n",
       "      <td>-0.012688</td>\n",
       "      <td>0.847457</td>\n",
       "      <td>0.510949</td>\n",
       "      <td>0.412653</td>\n",
       "      <td>0.099781</td>\n",
       "      <td>-0.333333</td>\n",
       "      <td>0.853896</td>\n",
       "      <td>0.782240</td>\n",
       "      <td>0.853875</td>\n",
       "      <td>0.853519</td>\n",
       "    </tr>\n",
       "    <tr>\n",
       "      <th>4</th>\n",
       "      <td>1.545280</td>\n",
       "      <td>-0.070841</td>\n",
       "      <td>-0.822154</td>\n",
       "      <td>-1.114299</td>\n",
       "      <td>-1.247120</td>\n",
       "      <td>-1.286698</td>\n",
       "      <td>-1.406245</td>\n",
       "      <td>-0.333333</td>\n",
       "      <td>0.232686</td>\n",
       "      <td>-0.474188</td>\n",
       "      <td>0.232651</td>\n",
       "      <td>0.125246</td>\n",
       "    </tr>\n",
       "    <tr>\n",
       "      <th>...</th>\n",
       "      <td>...</td>\n",
       "      <td>...</td>\n",
       "      <td>...</td>\n",
       "      <td>...</td>\n",
       "      <td>...</td>\n",
       "      <td>...</td>\n",
       "      <td>...</td>\n",
       "      <td>...</td>\n",
       "      <td>...</td>\n",
       "      <td>...</td>\n",
       "      <td>...</td>\n",
       "      <td>...</td>\n",
       "    </tr>\n",
       "    <tr>\n",
       "      <th>177722</th>\n",
       "      <td>0.527180</td>\n",
       "      <td>0.407337</td>\n",
       "      <td>0.590704</td>\n",
       "      <td>-0.004973</td>\n",
       "      <td>-0.075348</td>\n",
       "      <td>-0.092219</td>\n",
       "      <td>-0.265979</td>\n",
       "      <td>-1.000000</td>\n",
       "      <td>0.018154</td>\n",
       "      <td>-0.652990</td>\n",
       "      <td>0.018122</td>\n",
       "      <td>0.079663</td>\n",
       "    </tr>\n",
       "    <tr>\n",
       "      <th>177723</th>\n",
       "      <td>1.382748</td>\n",
       "      <td>-0.676807</td>\n",
       "      <td>-0.142952</td>\n",
       "      <td>-0.099504</td>\n",
       "      <td>0.132327</td>\n",
       "      <td>0.337732</td>\n",
       "      <td>0.445028</td>\n",
       "      <td>0.000000</td>\n",
       "      <td>-0.786570</td>\n",
       "      <td>-0.652651</td>\n",
       "      <td>-0.786604</td>\n",
       "      <td>-1.154017</td>\n",
       "    </tr>\n",
       "    <tr>\n",
       "      <th>177724</th>\n",
       "      <td>-1.412137</td>\n",
       "      <td>-0.650224</td>\n",
       "      <td>-1.225086</td>\n",
       "      <td>-1.309169</td>\n",
       "      <td>-1.225874</td>\n",
       "      <td>-1.129558</td>\n",
       "      <td>-1.081530</td>\n",
       "      <td>0.666667</td>\n",
       "      <td>-0.627149</td>\n",
       "      <td>-0.653296</td>\n",
       "      <td>-0.627182</td>\n",
       "      <td>-1.009025</td>\n",
       "    </tr>\n",
       "    <tr>\n",
       "      <th>177725</th>\n",
       "      <td>-0.229487</td>\n",
       "      <td>0.595834</td>\n",
       "      <td>-0.505961</td>\n",
       "      <td>-0.948331</td>\n",
       "      <td>-1.060032</td>\n",
       "      <td>-1.032267</td>\n",
       "      <td>-1.039224</td>\n",
       "      <td>0.666667</td>\n",
       "      <td>-0.358192</td>\n",
       "      <td>-0.653010</td>\n",
       "      <td>-0.358217</td>\n",
       "      <td>-0.392352</td>\n",
       "    </tr>\n",
       "    <tr>\n",
       "      <th>177726</th>\n",
       "      <td>1.553066</td>\n",
       "      <td>-0.096679</td>\n",
       "      <td>0.892046</td>\n",
       "      <td>0.643865</td>\n",
       "      <td>0.556899</td>\n",
       "      <td>0.425066</td>\n",
       "      <td>0.322308</td>\n",
       "      <td>-0.666667</td>\n",
       "      <td>0.538420</td>\n",
       "      <td>-0.653293</td>\n",
       "      <td>0.538418</td>\n",
       "      <td>0.430540</td>\n",
       "    </tr>\n",
       "  </tbody>\n",
       "</table>\n",
       "<p>177727 rows × 12 columns</p>\n",
       "</div>"
      ],
      "text/plain": [
       "           alpha     delta         u         g         r         i         z  \\\n",
       "0      -0.425014  0.254604  0.509637  0.372155  0.092721 -0.089863 -0.085710   \n",
       "1      -0.339121  0.219488  0.779126  0.548369  0.845372  0.661725  1.060653   \n",
       "2      -0.363913  0.343450  0.924694  0.495183  0.166544 -0.021235 -0.022892   \n",
       "3       1.483786 -0.691955 -0.012688  0.847457  0.510949  0.412653  0.099781   \n",
       "4       1.545280 -0.070841 -0.822154 -1.114299 -1.247120 -1.286698 -1.406245   \n",
       "...          ...       ...       ...       ...       ...       ...       ...   \n",
       "177722  0.527180  0.407337  0.590704 -0.004973 -0.075348 -0.092219 -0.265979   \n",
       "177723  1.382748 -0.676807 -0.142952 -0.099504  0.132327  0.337732  0.445028   \n",
       "177724 -1.412137 -0.650224 -1.225086 -1.309169 -1.225874 -1.129558 -1.081530   \n",
       "177725 -0.229487  0.595834 -0.505961 -0.948331 -1.060032 -1.032267 -1.039224   \n",
       "177726  1.553066 -0.096679  0.892046  0.643865  0.556899  0.425066  0.322308   \n",
       "\n",
       "         cam_col  spec_obj_ID  redshift     plate       MJD  \n",
       "0      -0.666667     0.169259  0.324212  0.169257  0.190916  \n",
       "1       0.333333     1.119762  0.546401  1.119762  0.900315  \n",
       "2      -0.666667    -0.084308  0.338683 -0.084321 -0.108730  \n",
       "3      -0.333333     0.853896  0.782240  0.853875  0.853519  \n",
       "4      -0.333333     0.232686 -0.474188  0.232651  0.125246  \n",
       "...          ...          ...       ...       ...       ...  \n",
       "177722 -1.000000     0.018154 -0.652990  0.018122  0.079663  \n",
       "177723  0.000000    -0.786570 -0.652651 -0.786604 -1.154017  \n",
       "177724  0.666667    -0.627149 -0.653296 -0.627182 -1.009025  \n",
       "177725  0.666667    -0.358192 -0.653010 -0.358217 -0.392352  \n",
       "177726 -0.666667     0.538420 -0.653293  0.538418  0.430540  \n",
       "\n",
       "[177727 rows x 12 columns]"
      ]
     },
     "execution_count": 22,
     "metadata": {},
     "output_type": "execute_result"
    }
   ],
   "source": [
    "#Sobremuestreo con Smote seguido de un submuestreo con Uniones de Tomek\n",
    "X_smoteT, y_smoteT = smoteT.fit_resample(X_scaled, y_df)\n",
    "X_smoteT"
   ]
  },
  {
   "cell_type": "code",
   "execution_count": 23,
   "id": "1ab02304",
   "metadata": {},
   "outputs": [
    {
     "data": {
      "text/plain": [
       "2    59313\n",
       "1    59272\n",
       "0    59142\n",
       "Name: class, dtype: int64"
      ]
     },
     "execution_count": 23,
     "metadata": {},
     "output_type": "execute_result"
    }
   ],
   "source": [
    "y_smoteT.value_counts()"
   ]
  },
  {
   "cell_type": "markdown",
   "id": "97e0da41",
   "metadata": {},
   "source": [
    "## Entrenar y evaluar utilizando regresión logística"
   ]
  },
  {
   "cell_type": "code",
   "execution_count": 24,
   "id": "f7c0f6c7",
   "metadata": {},
   "outputs": [],
   "source": [
    "#División del dataset en conjunto de entramiento y prueba\n",
    "from sklearn.model_selection import train_test_split\n",
    "X_train, X_val, y_train, y_val = train_test_split(X_smoteT, y_smoteT, test_size = 0.25, random_state=0)"
   ]
  },
  {
   "cell_type": "code",
   "execution_count": 25,
   "id": "c9353324",
   "metadata": {},
   "outputs": [],
   "source": [
    "#Entrenamos un algoritmo basado en regresión logística\n",
    "from sklearn.linear_model import LogisticRegression\n",
    "\n",
    "#Creación del modelo\n",
    "clf = LogisticRegression(max_iter=5000, multi_class='ovr', solver='liblinear').fit(X_train, y_train)"
   ]
  },
  {
   "cell_type": "code",
   "execution_count": 26,
   "id": "81ec1e86",
   "metadata": {},
   "outputs": [],
   "source": [
    "#Prediccion con el conjunto de pruebas\n",
    "y_pred = clf.predict(X_val)"
   ]
  },
  {
   "cell_type": "code",
   "execution_count": 27,
   "id": "da67d420",
   "metadata": {},
   "outputs": [
    {
     "name": "stdout",
     "output_type": "stream",
     "text": [
      "Accuracy: 0.946\n"
     ]
    }
   ],
   "source": [
    "#Validación del accuracy\n",
    "from sklearn.metrics import accuracy_score\n",
    "print('Accuracy: {:.3f}'.format(accuracy_score(y_val, y_pred)))"
   ]
  },
  {
   "cell_type": "code",
   "execution_count": 28,
   "id": "f9a0dd6d",
   "metadata": {},
   "outputs": [
    {
     "data": {
      "text/plain": [
       "array([[13038,  1097,   557],\n",
       "       [  675, 14220,     6],\n",
       "       [   64,     0, 14775]], dtype=int64)"
      ]
     },
     "execution_count": 28,
     "metadata": {},
     "output_type": "execute_result"
    }
   ],
   "source": [
    "#Validación de la matriz de confusión\n",
    "from sklearn.metrics import confusion_matrix\n",
    "confusion_matrix(y_val, y_pred)"
   ]
  },
  {
   "cell_type": "code",
   "execution_count": 29,
   "id": "0f29f9b9",
   "metadata": {},
   "outputs": [
    {
     "name": "stderr",
     "output_type": "stream",
     "text": [
      "C:\\Users\\eliza\\AppData\\Roaming\\Python\\Python38\\site-packages\\sklearn\\utils\\deprecation.py:87: FutureWarning: Function plot_confusion_matrix is deprecated; Function `plot_confusion_matrix` is deprecated in 1.0 and will be removed in 1.2. Use one of the class methods: ConfusionMatrixDisplay.from_predictions or ConfusionMatrixDisplay.from_estimator.\n",
      "  warnings.warn(msg, category=FutureWarning)\n"
     ]
    },
    {
     "data": {
      "text/plain": [
       "<sklearn.metrics._plot.confusion_matrix.ConfusionMatrixDisplay at 0x203262f0fd0>"
      ]
     },
     "execution_count": 29,
     "metadata": {},
     "output_type": "execute_result"
    },
    {
     "data": {
      "image/png": "[encoded data removed]",
      "text/plain": [
       "<Figure size 432x288 with 2 Axes>"
      ]
     },
     "metadata": {
      "needs_background": "light"
     },
     "output_type": "display_data"
    }
   ],
   "source": [
    "#Representación gráfica de los resultados de la matriz de confusión con el conjunto de pruebas\n",
    "from sklearn.metrics import plot_confusion_matrix\n",
    "plot_confusion_matrix(clf, X_val, y_val, values_format='3g')"
   ]
  },
  {
   "cell_type": "code",
   "execution_count": 30,
   "id": "b09afa25",
   "metadata": {},
   "outputs": [
    {
     "name": "stdout",
     "output_type": "stream",
     "text": [
      "[[13038  1097   557]\n",
      " [  675 14220     6]\n",
      " [   64     0 14775]]\n",
      "              precision    recall  f1-score   support\n",
      "\n",
      "           0       0.95      0.89      0.92     14692\n",
      "           1       0.93      0.95      0.94     14901\n",
      "           2       0.96      1.00      0.98     14839\n",
      "\n",
      "    accuracy                           0.95     44432\n",
      "   macro avg       0.95      0.95      0.95     44432\n",
      "weighted avg       0.95      0.95      0.95     44432\n",
      "\n"
     ]
    }
   ],
   "source": [
    "#Descripción de los resultados de diferentes métricas de medición sobre el modelo entrenado y probado\n",
    "from sklearn.metrics import confusion_matrix,classification_report,plot_confusion_matrix\n",
    "print(confusion_matrix(y_val, y_pred))\n",
    "print(classification_report(y_val, y_pred))"
   ]
  },
  {
   "cell_type": "markdown",
   "id": "d19c20ed",
   "metadata": {},
   "source": [
    "## Entrenar y evaluar utilizando bosques aleatorios"
   ]
  },
  {
   "cell_type": "code",
   "execution_count": 31,
   "id": "ecd6072b",
   "metadata": {},
   "outputs": [],
   "source": [
    "#División del dataset en conjunto de entramiento y prueba\n",
    "from sklearn.model_selection import train_test_split\n",
    "X_train, X_val, y_train, y_val = train_test_split(X_smoteT, y_smoteT, test_size = 0.25, random_state=0)"
   ]
  },
  {
   "cell_type": "code",
   "execution_count": 32,
   "id": "400e40d0",
   "metadata": {},
   "outputs": [
    {
     "data": {
      "text/plain": [
       "RandomForestClassifier()"
      ]
     },
     "execution_count": 32,
     "metadata": {},
     "output_type": "execute_result"
    }
   ],
   "source": [
    "# Importación de la librería \n",
    "from sklearn.ensemble import RandomForestClassifier\n",
    "\n",
    "#Creación del modelo\n",
    "ranforest = RandomForestClassifier()\n",
    "ranforest.fit(X_train, y_train)"
   ]
  },
  {
   "cell_type": "code",
   "execution_count": 33,
   "id": "f9a1542e",
   "metadata": {},
   "outputs": [],
   "source": [
    "#Prediccion con el conjunto de pruebas\n",
    "y_pred = ranforest.predict(X_val)"
   ]
  },
  {
   "cell_type": "code",
   "execution_count": 34,
   "id": "7bdbc696",
   "metadata": {},
   "outputs": [
    {
     "name": "stdout",
     "output_type": "stream",
     "text": [
      "Accuracy: 0.984\n"
     ]
    }
   ],
   "source": [
    "#Validación del accuracy\n",
    "from sklearn.metrics import accuracy_score\n",
    "print('Accuracy: {:.3f}'.format(accuracy_score(y_val, y_pred)))"
   ]
  },
  {
   "cell_type": "code",
   "execution_count": 35,
   "id": "719dbc70",
   "metadata": {},
   "outputs": [
    {
     "data": {
      "text/plain": [
       "array([[14380,   254,    58],\n",
       "       [  380, 14521,     0],\n",
       "       [    3,     0, 14836]], dtype=int64)"
      ]
     },
     "execution_count": 35,
     "metadata": {},
     "output_type": "execute_result"
    }
   ],
   "source": [
    "#Validación de la matriz de confusión\n",
    "from sklearn.metrics import confusion_matrix\n",
    "confusion_matrix(y_val, y_pred)"
   ]
  },
  {
   "cell_type": "code",
   "execution_count": 36,
   "id": "1cb7554a",
   "metadata": {},
   "outputs": [
    {
     "name": "stderr",
     "output_type": "stream",
     "text": [
      "C:\\Users\\eliza\\AppData\\Roaming\\Python\\Python38\\site-packages\\sklearn\\utils\\deprecation.py:87: FutureWarning: Function plot_confusion_matrix is deprecated; Function `plot_confusion_matrix` is deprecated in 1.0 and will be removed in 1.2. Use one of the class methods: ConfusionMatrixDisplay.from_predictions or ConfusionMatrixDisplay.from_estimator.\n",
      "  warnings.warn(msg, category=FutureWarning)\n"
     ]
    },
    {
     "data": {
      "text/plain": [
       "<sklearn.metrics._plot.confusion_matrix.ConfusionMatrixDisplay at 0x20326bf4fa0>"
      ]
     },
     "execution_count": 36,
     "metadata": {},
     "output_type": "execute_result"
    },
    {
     "data": {
      "image/png": "[encoded data removed]",
      "text/plain": [
       "<Figure size 432x288 with 2 Axes>"
      ]
     },
     "metadata": {
      "needs_background": "light"
     },
     "output_type": "display_data"
    }
   ],
   "source": [
    "#Representación gráfica de los resultados de la matriz de confusión con el conjunto de pruebas\n",
    "from sklearn.metrics import plot_confusion_matrix\n",
    "\n",
    "plot_confusion_matrix(ranforest, X_val, y_val, values_format='3g')"
   ]
  },
  {
   "cell_type": "code",
   "execution_count": 37,
   "id": "05525244",
   "metadata": {},
   "outputs": [
    {
     "name": "stdout",
     "output_type": "stream",
     "text": [
      "[[14380   254    58]\n",
      " [  380 14521     0]\n",
      " [    3     0 14836]]\n",
      "              precision    recall  f1-score   support\n",
      "\n",
      "           0       0.97      0.98      0.98     14692\n",
      "           1       0.98      0.97      0.98     14901\n",
      "           2       1.00      1.00      1.00     14839\n",
      "\n",
      "    accuracy                           0.98     44432\n",
      "   macro avg       0.98      0.98      0.98     44432\n",
      "weighted avg       0.98      0.98      0.98     44432\n",
      "\n"
     ]
    }
   ],
   "source": [
    "#Descripción de los resultados de diferentes métricas de medición sobre el modelo entrenado y probado\n",
    "from sklearn.metrics import confusion_matrix,classification_report,plot_confusion_matrix\n",
    "print(confusion_matrix(y_val, y_pred))\n",
    "print(classification_report(y_val, y_pred))"
   ]
  },
  {
   "cell_type": "markdown",
   "id": "a6f36646",
   "metadata": {},
   "source": [
    "## Entrenar y evaluar utilizando K-Nearest Neighbors"
   ]
  },
  {
   "cell_type": "code",
   "execution_count": 38,
   "id": "c0337123",
   "metadata": {},
   "outputs": [],
   "source": [
    "#División del dataset en conjunto de entramiento y prueba\n",
    "from sklearn.model_selection import train_test_split\n",
    "X_train, X_val, y_train, y_val = train_test_split(X_smoteT, y_smoteT, test_size = 0.25, random_state=0)"
   ]
  },
  {
   "cell_type": "code",
   "execution_count": 39,
   "id": "5b6bd018",
   "metadata": {},
   "outputs": [
    {
     "data": {
      "text/plain": [
       "KNeighborsClassifier()"
      ]
     },
     "execution_count": 39,
     "metadata": {},
     "output_type": "execute_result"
    }
   ],
   "source": [
    "# Ajustar el clasificador en el Conjunto de Entrenamiento\n",
    "from sklearn.neighbors import KNeighborsClassifier\n",
    "classifier = KNeighborsClassifier(n_neighbors = 5, metric = \"minkowski\", p = 2)\n",
    "classifier.fit(X_train, y_train)"
   ]
  },
  {
   "cell_type": "code",
   "execution_count": 40,
   "id": "b0bc3dc6",
   "metadata": {},
   "outputs": [],
   "source": [
    "# Predicción de los resultados con el Conjunto de Testing\n",
    "y_pred  = classifier.predict(X_val)"
   ]
  },
  {
   "cell_type": "code",
   "execution_count": 41,
   "id": "c7546be9",
   "metadata": {},
   "outputs": [
    {
     "name": "stdout",
     "output_type": "stream",
     "text": [
      "Accuracy: 0.966\n"
     ]
    }
   ],
   "source": [
    "#Validación del accuracy\n",
    "from sklearn.metrics import accuracy_score\n",
    "print('Accuracy: {:.3f}'.format(accuracy_score(y_val, y_pred)))"
   ]
  },
  {
   "cell_type": "code",
   "execution_count": 42,
   "id": "c06f86e1",
   "metadata": {},
   "outputs": [
    {
     "data": {
      "text/plain": [
       "array([[13749,   448,   495],\n",
       "       [  316, 14550,    35],\n",
       "       [  189,     7, 14643]], dtype=int64)"
      ]
     },
     "execution_count": 42,
     "metadata": {},
     "output_type": "execute_result"
    }
   ],
   "source": [
    "#Validación de la matriz de confusión\n",
    "from sklearn.metrics import confusion_matrix\n",
    "confusion_matrix(y_val, y_pred)"
   ]
  },
  {
   "cell_type": "code",
   "execution_count": 43,
   "id": "900a05ce",
   "metadata": {},
   "outputs": [
    {
     "name": "stderr",
     "output_type": "stream",
     "text": [
      "C:\\Users\\eliza\\AppData\\Roaming\\Python\\Python38\\site-packages\\sklearn\\utils\\deprecation.py:87: FutureWarning: Function plot_confusion_matrix is deprecated; Function `plot_confusion_matrix` is deprecated in 1.0 and will be removed in 1.2. Use one of the class methods: ConfusionMatrixDisplay.from_predictions or ConfusionMatrixDisplay.from_estimator.\n",
      "  warnings.warn(msg, category=FutureWarning)\n"
     ]
    },
    {
     "data": {
      "text/plain": [
       "<sklearn.metrics._plot.confusion_matrix.ConfusionMatrixDisplay at 0x203291ffca0>"
      ]
     },
     "execution_count": 43,
     "metadata": {},
     "output_type": "execute_result"
    },
    {
     "data": {
      "image/png": "[encoded data removed]",
      "text/plain": [
       "<Figure size 432x288 with 2 Axes>"
      ]
     },
     "metadata": {
      "needs_background": "light"
     },
     "output_type": "display_data"
    }
   ],
   "source": [
    "#Representación gráfica de los resultados de la matriz de confusión con el conjunto de pruebas\n",
    "from sklearn.metrics import plot_confusion_matrix\n",
    "plot_confusion_matrix(classifier, X_val, y_val, values_format='3g')"
   ]
  },
  {
   "cell_type": "code",
   "execution_count": 44,
   "id": "4a99a084",
   "metadata": {},
   "outputs": [
    {
     "name": "stdout",
     "output_type": "stream",
     "text": [
      "[[13749   448   495]\n",
      " [  316 14550    35]\n",
      " [  189     7 14643]]\n",
      "              precision    recall  f1-score   support\n",
      "\n",
      "           0       0.96      0.94      0.95     14692\n",
      "           1       0.97      0.98      0.97     14901\n",
      "           2       0.97      0.99      0.98     14839\n",
      "\n",
      "    accuracy                           0.97     44432\n",
      "   macro avg       0.97      0.97      0.97     44432\n",
      "weighted avg       0.97      0.97      0.97     44432\n",
      "\n"
     ]
    }
   ],
   "source": [
    "#Descripción de los resultados de diferentes métricas de medición sobre el modelo entrenado y probado\n",
    "from sklearn.metrics import confusion_matrix,classification_report,plot_confusion_matrix\n",
    "print(confusion_matrix(y_val, y_pred))\n",
    "print(classification_report(y_val, y_pred))"
   ]
  },
  {
   "cell_type": "markdown",
   "id": "a6b256b5",
   "metadata": {},
   "source": [
    "## Entrenar y evaluar utilizando Support Vector Machine"
   ]
  },
  {
   "cell_type": "code",
   "execution_count": 45,
   "id": "e7a806c9",
   "metadata": {},
   "outputs": [],
   "source": [
    "#División del dataset en conjunto de entramiento y prueba\n",
    "from sklearn.model_selection import train_test_split\n",
    "X_train, X_val, y_train, y_val = train_test_split(X_smoteT, y_smoteT, test_size = 0.25, random_state=0)"
   ]
  },
  {
   "cell_type": "code",
   "execution_count": 46,
   "id": "d07ab9a6",
   "metadata": {},
   "outputs": [
    {
     "data": {
      "text/plain": [
       "SVC(kernel='linear', random_state=0)"
      ]
     },
     "execution_count": 46,
     "metadata": {},
     "output_type": "execute_result"
    }
   ],
   "source": [
    "# Ajustar el SVM en el Conjunto de Entrenamiento\n",
    "from sklearn.svm import SVC\n",
    "classifier = SVC(kernel = \"linear\", random_state = 0)\n",
    "classifier.fit(X_train, y_train)"
   ]
  },
  {
   "cell_type": "code",
   "execution_count": 47,
   "id": "5b7481d0",
   "metadata": {},
   "outputs": [],
   "source": [
    "# Predicción de los resultados con el Conjunto de Testing\n",
    "y_pred  = classifier.predict(X_val)"
   ]
  },
  {
   "cell_type": "code",
   "execution_count": 48,
   "id": "057e3242",
   "metadata": {},
   "outputs": [
    {
     "name": "stdout",
     "output_type": "stream",
     "text": [
      "Accuracy: 0.961\n"
     ]
    }
   ],
   "source": [
    "#Validación del accuracy\n",
    "from sklearn.metrics import accuracy_score\n",
    "print('Accuracy: {:.3f}'.format(accuracy_score(y_val, y_pred)))"
   ]
  },
  {
   "cell_type": "code",
   "execution_count": 49,
   "id": "efb16170",
   "metadata": {},
   "outputs": [
    {
     "data": {
      "text/plain": [
       "array([[14020,   491,   181],\n",
       "       [ 1037, 13862,     2],\n",
       "       [    0,     0, 14839]], dtype=int64)"
      ]
     },
     "execution_count": 49,
     "metadata": {},
     "output_type": "execute_result"
    }
   ],
   "source": [
    "#Validación de la matriz de confusión\n",
    "from sklearn.metrics import confusion_matrix\n",
    "confusion_matrix(y_val, y_pred)"
   ]
  },
  {
   "cell_type": "code",
   "execution_count": 50,
   "id": "0c8b5fdf",
   "metadata": {},
   "outputs": [
    {
     "name": "stderr",
     "output_type": "stream",
     "text": [
      "C:\\Users\\eliza\\AppData\\Roaming\\Python\\Python38\\site-packages\\sklearn\\utils\\deprecation.py:87: FutureWarning: Function plot_confusion_matrix is deprecated; Function `plot_confusion_matrix` is deprecated in 1.0 and will be removed in 1.2. Use one of the class methods: ConfusionMatrixDisplay.from_predictions or ConfusionMatrixDisplay.from_estimator.\n",
      "  warnings.warn(msg, category=FutureWarning)\n"
     ]
    },
    {
     "data": {
      "text/plain": [
       "<sklearn.metrics._plot.confusion_matrix.ConfusionMatrixDisplay at 0x2032628f340>"
      ]
     },
     "execution_count": 50,
     "metadata": {},
     "output_type": "execute_result"
    },
    {
     "data": {
      "image/png": "[encoded data removed]",
      "text/plain": [
       "<Figure size 432x288 with 2 Axes>"
      ]
     },
     "metadata": {
      "needs_background": "light"
     },
     "output_type": "display_data"
    }
   ],
   "source": [
    "#Representación gráfica de los resultados de la matriz de confusión con el conjunto de pruebas\n",
    "from sklearn.metrics import plot_confusion_matrix\n",
    "plot_confusion_matrix(classifier, X_val, y_val, values_format='3g')"
   ]
  },
  {
   "cell_type": "code",
   "execution_count": 51,
   "id": "7ea7ccbb",
   "metadata": {},
   "outputs": [
    {
     "name": "stdout",
     "output_type": "stream",
     "text": [
      "[[14020   491   181]\n",
      " [ 1037 13862     2]\n",
      " [    0     0 14839]]\n",
      "              precision    recall  f1-score   support\n",
      "\n",
      "           0       0.93      0.95      0.94     14692\n",
      "           1       0.97      0.93      0.95     14901\n",
      "           2       0.99      1.00      0.99     14839\n",
      "\n",
      "    accuracy                           0.96     44432\n",
      "   macro avg       0.96      0.96      0.96     44432\n",
      "weighted avg       0.96      0.96      0.96     44432\n",
      "\n"
     ]
    }
   ],
   "source": [
    "#Descripción de los resultados de diferentes métricas de medición sobre el modelo entrenado y probado\n",
    "from sklearn.metrics import confusion_matrix,classification_report,plot_confusion_matrix\n",
    "print(confusion_matrix(y_val, y_pred))\n",
    "print(classification_report(y_val, y_pred))"
   ]
  },
  {
   "cell_type": "markdown",
   "id": "bc6549b3",
   "metadata": {},
   "source": [
    "## Entrenar y evaluar utilizando árboles de decisión"
   ]
  },
  {
   "cell_type": "code",
   "execution_count": 52,
   "id": "55098fab",
   "metadata": {},
   "outputs": [],
   "source": [
    "#División del dataset en conjunto de entramiento y prueba\n",
    "from sklearn.model_selection import train_test_split\n",
    "X_train, X_val, y_train, y_val = train_test_split(X_smoteT, y_smoteT, test_size = 0.25, random_state=0)"
   ]
  },
  {
   "cell_type": "code",
   "execution_count": 53,
   "id": "eeab9e93",
   "metadata": {},
   "outputs": [
    {
     "data": {
      "text/plain": [
       "DecisionTreeClassifier(criterion='entropy', random_state=0)"
      ]
     },
     "execution_count": 53,
     "metadata": {},
     "output_type": "execute_result"
    }
   ],
   "source": [
    "# Ajustar el clasificador de Árbol de Decisión en el Conjunto de Entrenamiento\n",
    "from sklearn.tree import DecisionTreeClassifier\n",
    "classifier = DecisionTreeClassifier(criterion = \"entropy\", random_state = 0)\n",
    "classifier.fit(X_train, y_train)"
   ]
  },
  {
   "cell_type": "code",
   "execution_count": 54,
   "id": "49548352",
   "metadata": {},
   "outputs": [],
   "source": [
    "# Predicción de los resultados con el Conjunto de Testing\n",
    "y_pred  = classifier.predict(X_val)"
   ]
  },
  {
   "cell_type": "code",
   "execution_count": 55,
   "id": "5641b1e9",
   "metadata": {},
   "outputs": [
    {
     "name": "stdout",
     "output_type": "stream",
     "text": [
      "Accuracy: 0.975\n"
     ]
    }
   ],
   "source": [
    "#Validación del accuracy\n",
    "from sklearn.metrics import accuracy_score\n",
    "print('Accuracy: {:.3f}'.format(accuracy_score(y_val, y_pred)))"
   ]
  },
  {
   "cell_type": "code",
   "execution_count": 56,
   "id": "360423e6",
   "metadata": {},
   "outputs": [
    {
     "data": {
      "text/plain": [
       "array([[14084,   580,    28],\n",
       "       [  484, 14417,     0],\n",
       "       [   31,     0, 14808]], dtype=int64)"
      ]
     },
     "execution_count": 56,
     "metadata": {},
     "output_type": "execute_result"
    }
   ],
   "source": [
    "#Validación de la matriz de confusión\n",
    "from sklearn.metrics import confusion_matrix\n",
    "confusion_matrix(y_val, y_pred)"
   ]
  },
  {
   "cell_type": "code",
   "execution_count": 57,
   "id": "9f01bef9",
   "metadata": {},
   "outputs": [
    {
     "name": "stderr",
     "output_type": "stream",
     "text": [
      "C:\\Users\\eliza\\AppData\\Roaming\\Python\\Python38\\site-packages\\sklearn\\utils\\deprecation.py:87: FutureWarning: Function plot_confusion_matrix is deprecated; Function `plot_confusion_matrix` is deprecated in 1.0 and will be removed in 1.2. Use one of the class methods: ConfusionMatrixDisplay.from_predictions or ConfusionMatrixDisplay.from_estimator.\n",
      "  warnings.warn(msg, category=FutureWarning)\n"
     ]
    },
    {
     "data": {
      "text/plain": [
       "<sklearn.metrics._plot.confusion_matrix.ConfusionMatrixDisplay at 0x2032626e4f0>"
      ]
     },
     "execution_count": 57,
     "metadata": {},
     "output_type": "execute_result"
    },
    {
     "data": {
      "image/png": "[encoded data removed]",
      "text/plain": [
       "<Figure size 432x288 with 2 Axes>"
      ]
     },
     "metadata": {
      "needs_background": "light"
     },
     "output_type": "display_data"
    }
   ],
   "source": [
    "#Representación gráfica de los resultados de la matriz de confusión con el conjunto de pruebas\n",
    "from sklearn.metrics import plot_confusion_matrix\n",
    "plot_confusion_matrix(classifier, X_val, y_val, values_format='3g')"
   ]
  },
  {
   "cell_type": "code",
   "execution_count": 58,
   "id": "260dcfe9",
   "metadata": {},
   "outputs": [
    {
     "name": "stdout",
     "output_type": "stream",
     "text": [
      "[[14084   580    28]\n",
      " [  484 14417     0]\n",
      " [   31     0 14808]]\n",
      "              precision    recall  f1-score   support\n",
      "\n",
      "           0       0.96      0.96      0.96     14692\n",
      "           1       0.96      0.97      0.96     14901\n",
      "           2       1.00      1.00      1.00     14839\n",
      "\n",
      "    accuracy                           0.97     44432\n",
      "   macro avg       0.97      0.97      0.97     44432\n",
      "weighted avg       0.97      0.97      0.97     44432\n",
      "\n"
     ]
    }
   ],
   "source": [
    "#Descripción de los resultados de diferentes métricas de medición sobre el modelo entrenado y probado\n",
    "from sklearn.metrics import confusion_matrix,classification_report,plot_confusion_matrix\n",
    "print(confusion_matrix(y_val, y_pred))\n",
    "print(classification_report(y_val, y_pred))"
   ]
  }
 ],
 "metadata": {
  "kernelspec": {
   "display_name": "Python 3",
   "language": "python",
   "name": "python3"
  },
  "language_info": {
   "codemirror_mode": {
    "name": "ipython",
    "version": 3
   },
   "file_extension": ".py",
   "mimetype": "text/x-python",
   "name": "python",
   "nbconvert_exporter": "python",
   "pygments_lexer": "ipython3",
   "version": "3.8.8"
  }
 },
 "nbformat": 4,
 "nbformat_minor": 5
}
